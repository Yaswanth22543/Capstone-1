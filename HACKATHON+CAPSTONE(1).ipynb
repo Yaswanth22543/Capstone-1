{
 "cells": [
  {
   "cell_type": "markdown",
   "id": "ae5e0c02",
   "metadata": {},
   "source": [
    "## *IMPORTING THE NECESSARY LIBRARIES*"
   ]
  },
  {
   "cell_type": "code",
   "execution_count": 1,
   "id": "6bbf6c66",
   "metadata": {},
   "outputs": [
    {
     "name": "stderr",
     "output_type": "stream",
     "text": [
      "C:\\Users\\Admin\\Anaconda3\\lib\\site-packages\\scipy\\__init__.py:155: UserWarning: A NumPy version >=1.18.5 and <1.25.0 is required for this version of SciPy (detected version 1.26.0\n",
      "  warnings.warn(f\"A NumPy version >={np_minversion} and <{np_maxversion}\"\n"
     ]
    }
   ],
   "source": [
    "    import pandas as pd\n",
    "import numpy as np\n",
    "import matplotlib.pyplot as plt\n",
    "%matplotlib inline\n",
    "import seaborn as sns"
   ]
  },
  {
   "cell_type": "code",
   "execution_count": 2,
   "id": "a8acea4d",
   "metadata": {},
   "outputs": [
    {
     "data": {
      "text/plain": [
       "'C:\\\\Users\\\\Admin\\\\Documents\\\\New folder'"
      ]
     },
     "execution_count": 2,
     "metadata": {},
     "output_type": "execute_result"
    }
   ],
   "source": [
    "import os\n",
    "os.getcwd()"
   ]
  },
  {
   "cell_type": "code",
   "execution_count": 3,
   "id": "194d716f",
   "metadata": {},
   "outputs": [],
   "source": [
    "train_df = pd.read_csv('TRAINING_.csv')"
   ]
  },
  {
   "cell_type": "code",
   "execution_count": 4,
   "id": "6f72497c",
   "metadata": {},
   "outputs": [],
   "source": [
    "test_df = pd.read_csv('TEST_.csv')"
   ]
  },
  {
   "cell_type": "code",
   "execution_count": 5,
   "id": "8704ba5a",
   "metadata": {},
   "outputs": [],
   "source": [
    "submission_df = pd.read_csv('SAMPLE_.csv')\n"
   ]
  },
  {
   "cell_type": "code",
   "execution_count": 6,
   "id": "bef436cf",
   "metadata": {},
   "outputs": [
    {
     "data": {
      "text/html": [
       "<div>\n",
       "<style scoped>\n",
       "    .dataframe tbody tr th:only-of-type {\n",
       "        vertical-align: middle;\n",
       "    }\n",
       "\n",
       "    .dataframe tbody tr th {\n",
       "        vertical-align: top;\n",
       "    }\n",
       "\n",
       "    .dataframe thead th {\n",
       "        text-align: right;\n",
       "    }\n",
       "</style>\n",
       "<table border=\"1\" class=\"dataframe\">\n",
       "  <thead>\n",
       "    <tr style=\"text-align: right;\">\n",
       "      <th></th>\n",
       "      <th>id</th>\n",
       "      <th>Area(total)</th>\n",
       "      <th>Troom</th>\n",
       "      <th>Nbedrooms</th>\n",
       "      <th>Nbwashrooms</th>\n",
       "      <th>Twashrooms</th>\n",
       "      <th>roof</th>\n",
       "      <th>Roof(Area)</th>\n",
       "      <th>Lawn(Area)</th>\n",
       "      <th>Nfloors</th>\n",
       "      <th>API</th>\n",
       "      <th>ANB</th>\n",
       "      <th>Grade</th>\n",
       "      <th>EXPECTED</th>\n",
       "    </tr>\n",
       "  </thead>\n",
       "  <tbody>\n",
       "    <tr>\n",
       "      <th>0</th>\n",
       "      <td>1</td>\n",
       "      <td>305</td>\n",
       "      <td>8.0</td>\n",
       "      <td>2.0</td>\n",
       "      <td>1.0</td>\n",
       "      <td>3.0</td>\n",
       "      <td>NO</td>\n",
       "      <td>0.0</td>\n",
       "      <td>76.0</td>\n",
       "      <td>2</td>\n",
       "      <td>63.0</td>\n",
       "      <td>4</td>\n",
       "      <td>D</td>\n",
       "      <td>3826$</td>\n",
       "    </tr>\n",
       "    <tr>\n",
       "      <th>1</th>\n",
       "      <td>2</td>\n",
       "      <td>344</td>\n",
       "      <td>6.0</td>\n",
       "      <td>7.0</td>\n",
       "      <td>7.0</td>\n",
       "      <td>8.0</td>\n",
       "      <td>no</td>\n",
       "      <td>0.0</td>\n",
       "      <td>83.0</td>\n",
       "      <td>7</td>\n",
       "      <td>97.0</td>\n",
       "      <td>1</td>\n",
       "      <td>B</td>\n",
       "      <td>4458$</td>\n",
       "    </tr>\n",
       "    <tr>\n",
       "      <th>2</th>\n",
       "      <td>3</td>\n",
       "      <td>294</td>\n",
       "      <td>8.0</td>\n",
       "      <td>4.0</td>\n",
       "      <td>3.0</td>\n",
       "      <td>4.0</td>\n",
       "      <td>yes</td>\n",
       "      <td>97.0</td>\n",
       "      <td>78.0</td>\n",
       "      <td>1</td>\n",
       "      <td>88.0</td>\n",
       "      <td>4</td>\n",
       "      <td>C</td>\n",
       "      <td>4199$</td>\n",
       "    </tr>\n",
       "    <tr>\n",
       "      <th>3</th>\n",
       "      <td>4</td>\n",
       "      <td>328</td>\n",
       "      <td>5.0</td>\n",
       "      <td>4.0</td>\n",
       "      <td>2.0</td>\n",
       "      <td>4.0</td>\n",
       "      <td>NO</td>\n",
       "      <td>0.0</td>\n",
       "      <td>91.0</td>\n",
       "      <td>5</td>\n",
       "      <td>86.0</td>\n",
       "      <td>1</td>\n",
       "      <td>D</td>\n",
       "      <td>3462$</td>\n",
       "    </tr>\n",
       "    <tr>\n",
       "      <th>4</th>\n",
       "      <td>5</td>\n",
       "      <td>295</td>\n",
       "      <td>9.0</td>\n",
       "      <td>5.0</td>\n",
       "      <td>3.0</td>\n",
       "      <td>5.0</td>\n",
       "      <td>NaN</td>\n",
       "      <td>NaN</td>\n",
       "      <td>97.0</td>\n",
       "      <td>4</td>\n",
       "      <td>93.0</td>\n",
       "      <td>3</td>\n",
       "      <td>C</td>\n",
       "      <td>4543$</td>\n",
       "    </tr>\n",
       "  </tbody>\n",
       "</table>\n",
       "</div>"
      ],
      "text/plain": [
       "   id  Area(total)  Troom  Nbedrooms  Nbwashrooms  Twashrooms roof  \\\n",
       "0   1          305    8.0        2.0          1.0         3.0   NO   \n",
       "1   2          344    6.0        7.0          7.0         8.0   no   \n",
       "2   3          294    8.0        4.0          3.0         4.0  yes   \n",
       "3   4          328    5.0        4.0          2.0         4.0   NO   \n",
       "4   5          295    9.0        5.0          3.0         5.0  NaN   \n",
       "\n",
       "   Roof(Area)  Lawn(Area)  Nfloors   API  ANB Grade EXPECTED  \n",
       "0         0.0        76.0        2  63.0    4     D    3826$  \n",
       "1         0.0        83.0        7  97.0    1     B    4458$  \n",
       "2        97.0        78.0        1  88.0    4     C    4199$  \n",
       "3         0.0        91.0        5  86.0    1     D    3462$  \n",
       "4         NaN        97.0        4  93.0    3     C    4543$  "
      ]
     },
     "execution_count": 6,
     "metadata": {},
     "output_type": "execute_result"
    }
   ],
   "source": [
    "train_df.head()"
   ]
  },
  {
   "cell_type": "code",
   "execution_count": 7,
   "id": "1307eda1",
   "metadata": {},
   "outputs": [
    {
     "name": "stdout",
     "output_type": "stream",
     "text": [
      "<class 'pandas.core.frame.DataFrame'>\n",
      "RangeIndex: 7000 entries, 0 to 6999\n",
      "Data columns (total 14 columns):\n",
      " #   Column       Non-Null Count  Dtype  \n",
      "---  ------       --------------  -----  \n",
      " 0   id           7000 non-null   int64  \n",
      " 1   Area(total)  7000 non-null   int64  \n",
      " 2   Troom        6998 non-null   float64\n",
      " 3   Nbedrooms    6997 non-null   float64\n",
      " 4   Nbwashrooms  6998 non-null   float64\n",
      " 5   Twashrooms   6999 non-null   float64\n",
      " 6   roof         5647 non-null   object \n",
      " 7   Roof(Area)   5647 non-null   float64\n",
      " 8   Lawn(Area)   6998 non-null   float64\n",
      " 9   Nfloors      7000 non-null   int64  \n",
      " 10  API          6999 non-null   float64\n",
      " 11  ANB          7000 non-null   int64  \n",
      " 12  Grade        7000 non-null   object \n",
      " 13  EXPECTED     7000 non-null   object \n",
      "dtypes: float64(7), int64(4), object(3)\n",
      "memory usage: 765.8+ KB\n"
     ]
    }
   ],
   "source": [
    "train_df.info() # we can observe that there are nulll values in the train_df dataset\n"
   ]
  },
  {
   "cell_type": "code",
   "execution_count": 8,
   "id": "72967b3d",
   "metadata": {},
   "outputs": [
    {
     "data": {
      "text/html": [
       "<div>\n",
       "<style scoped>\n",
       "    .dataframe tbody tr th:only-of-type {\n",
       "        vertical-align: middle;\n",
       "    }\n",
       "\n",
       "    .dataframe tbody tr th {\n",
       "        vertical-align: top;\n",
       "    }\n",
       "\n",
       "    .dataframe thead th {\n",
       "        text-align: right;\n",
       "    }\n",
       "</style>\n",
       "<table border=\"1\" class=\"dataframe\">\n",
       "  <thead>\n",
       "    <tr style=\"text-align: right;\">\n",
       "      <th></th>\n",
       "      <th>id</th>\n",
       "      <th>Area(total)</th>\n",
       "      <th>Troom</th>\n",
       "      <th>Nbedrooms</th>\n",
       "      <th>Nbwashrooms</th>\n",
       "      <th>Twashrooms</th>\n",
       "      <th>roof</th>\n",
       "      <th>Roof(Area)</th>\n",
       "      <th>Lawn(Area)</th>\n",
       "      <th>Nfloors</th>\n",
       "      <th>API</th>\n",
       "      <th>ANB</th>\n",
       "      <th>EXPECTED</th>\n",
       "    </tr>\n",
       "  </thead>\n",
       "  <tbody>\n",
       "    <tr>\n",
       "      <th>0</th>\n",
       "      <td>1</td>\n",
       "      <td>348</td>\n",
       "      <td>9.0</td>\n",
       "      <td>5.0</td>\n",
       "      <td>3.0</td>\n",
       "      <td>5</td>\n",
       "      <td>NaN</td>\n",
       "      <td>NaN</td>\n",
       "      <td>84.0</td>\n",
       "      <td>5</td>\n",
       "      <td>91.0</td>\n",
       "      <td>6</td>\n",
       "      <td>4422$</td>\n",
       "    </tr>\n",
       "    <tr>\n",
       "      <th>1</th>\n",
       "      <td>2</td>\n",
       "      <td>311</td>\n",
       "      <td>6.0</td>\n",
       "      <td>5.0</td>\n",
       "      <td>5.0</td>\n",
       "      <td>6</td>\n",
       "      <td>NO</td>\n",
       "      <td>0.0</td>\n",
       "      <td>86.0</td>\n",
       "      <td>6</td>\n",
       "      <td>83.0</td>\n",
       "      <td>4</td>\n",
       "      <td>3432$</td>\n",
       "    </tr>\n",
       "    <tr>\n",
       "      <th>2</th>\n",
       "      <td>3</td>\n",
       "      <td>342</td>\n",
       "      <td>5.0</td>\n",
       "      <td>6.0</td>\n",
       "      <td>6.0</td>\n",
       "      <td>7</td>\n",
       "      <td>yes</td>\n",
       "      <td>120.0</td>\n",
       "      <td>85.0</td>\n",
       "      <td>4</td>\n",
       "      <td>95.0</td>\n",
       "      <td>5</td>\n",
       "      <td>4066$</td>\n",
       "    </tr>\n",
       "    <tr>\n",
       "      <th>3</th>\n",
       "      <td>4</td>\n",
       "      <td>329</td>\n",
       "      <td>7.0</td>\n",
       "      <td>7.0</td>\n",
       "      <td>4.0</td>\n",
       "      <td>6</td>\n",
       "      <td>NaN</td>\n",
       "      <td>NaN</td>\n",
       "      <td>105.0</td>\n",
       "      <td>5</td>\n",
       "      <td>97.0</td>\n",
       "      <td>6</td>\n",
       "      <td>4322$</td>\n",
       "    </tr>\n",
       "    <tr>\n",
       "      <th>4</th>\n",
       "      <td>5</td>\n",
       "      <td>307</td>\n",
       "      <td>6.0</td>\n",
       "      <td>2.0</td>\n",
       "      <td>3.0</td>\n",
       "      <td>4</td>\n",
       "      <td>no</td>\n",
       "      <td>0.0</td>\n",
       "      <td>76.0</td>\n",
       "      <td>2</td>\n",
       "      <td>64.0</td>\n",
       "      <td>4</td>\n",
       "      <td>3031$</td>\n",
       "    </tr>\n",
       "  </tbody>\n",
       "</table>\n",
       "</div>"
      ],
      "text/plain": [
       "   id  Area(total)  Troom  Nbedrooms  Nbwashrooms  Twashrooms roof  \\\n",
       "0   1          348    9.0        5.0          3.0           5  NaN   \n",
       "1   2          311    6.0        5.0          5.0           6   NO   \n",
       "2   3          342    5.0        6.0          6.0           7  yes   \n",
       "3   4          329    7.0        7.0          4.0           6  NaN   \n",
       "4   5          307    6.0        2.0          3.0           4   no   \n",
       "\n",
       "   Roof(Area)  Lawn(Area)  Nfloors   API  ANB EXPECTED  \n",
       "0         NaN        84.0        5  91.0    6    4422$  \n",
       "1         0.0        86.0        6  83.0    4    3432$  \n",
       "2       120.0        85.0        4  95.0    5    4066$  \n",
       "3         NaN       105.0        5  97.0    6    4322$  \n",
       "4         0.0        76.0        2  64.0    4    3031$  "
      ]
     },
     "execution_count": 8,
     "metadata": {},
     "output_type": "execute_result"
    }
   ],
   "source": [
    "test_df.head()"
   ]
  },
  {
   "cell_type": "code",
   "execution_count": 9,
   "id": "25c2c821",
   "metadata": {},
   "outputs": [
    {
     "name": "stdout",
     "output_type": "stream",
     "text": [
      "<class 'pandas.core.frame.DataFrame'>\n",
      "RangeIndex: 3299 entries, 0 to 3298\n",
      "Data columns (total 13 columns):\n",
      " #   Column       Non-Null Count  Dtype  \n",
      "---  ------       --------------  -----  \n",
      " 0   id           3299 non-null   int64  \n",
      " 1   Area(total)  3299 non-null   int64  \n",
      " 2   Troom        3298 non-null   float64\n",
      " 3   Nbedrooms    3298 non-null   float64\n",
      " 4   Nbwashrooms  3298 non-null   float64\n",
      " 5   Twashrooms   3299 non-null   int64  \n",
      " 6   roof         2646 non-null   object \n",
      " 7   Roof(Area)   2646 non-null   float64\n",
      " 8   Lawn(Area)   3298 non-null   float64\n",
      " 9   Nfloors      3299 non-null   int64  \n",
      " 10  API          3298 non-null   float64\n",
      " 11  ANB          3299 non-null   int64  \n",
      " 12  EXPECTED     3299 non-null   object \n",
      "dtypes: float64(6), int64(5), object(2)\n",
      "memory usage: 335.2+ KB\n"
     ]
    }
   ],
   "source": [
    "test_df.info() # we can observe that there are nulll values in the test_df dataset"
   ]
  },
  {
   "cell_type": "markdown",
   "id": "edb92439",
   "metadata": {},
   "source": [
    "#### to impute the missing values we combine both the train_df dataset and test_df dataset"
   ]
  },
  {
   "cell_type": "code",
   "execution_count": 10,
   "id": "44ef8605",
   "metadata": {},
   "outputs": [],
   "source": [
    "test_df[\"Grade\"]=\"test\" # we have added a new column into test_df and imputed with a code\"test\", so that both the datasets \n",
    "                        #can be combined "
   ]
  },
  {
   "cell_type": "code",
   "execution_count": 11,
   "id": "e6550ba8",
   "metadata": {},
   "outputs": [
    {
     "data": {
      "text/html": [
       "<div>\n",
       "<style scoped>\n",
       "    .dataframe tbody tr th:only-of-type {\n",
       "        vertical-align: middle;\n",
       "    }\n",
       "\n",
       "    .dataframe tbody tr th {\n",
       "        vertical-align: top;\n",
       "    }\n",
       "\n",
       "    .dataframe thead th {\n",
       "        text-align: right;\n",
       "    }\n",
       "</style>\n",
       "<table border=\"1\" class=\"dataframe\">\n",
       "  <thead>\n",
       "    <tr style=\"text-align: right;\">\n",
       "      <th></th>\n",
       "      <th>id</th>\n",
       "      <th>Area(total)</th>\n",
       "      <th>Troom</th>\n",
       "      <th>Nbedrooms</th>\n",
       "      <th>Nbwashrooms</th>\n",
       "      <th>Twashrooms</th>\n",
       "      <th>roof</th>\n",
       "      <th>Roof(Area)</th>\n",
       "      <th>Lawn(Area)</th>\n",
       "      <th>Nfloors</th>\n",
       "      <th>API</th>\n",
       "      <th>ANB</th>\n",
       "      <th>EXPECTED</th>\n",
       "      <th>Grade</th>\n",
       "    </tr>\n",
       "  </thead>\n",
       "  <tbody>\n",
       "    <tr>\n",
       "      <th>0</th>\n",
       "      <td>1</td>\n",
       "      <td>348</td>\n",
       "      <td>9.0</td>\n",
       "      <td>5.0</td>\n",
       "      <td>3.0</td>\n",
       "      <td>5</td>\n",
       "      <td>NaN</td>\n",
       "      <td>NaN</td>\n",
       "      <td>84.0</td>\n",
       "      <td>5</td>\n",
       "      <td>91.0</td>\n",
       "      <td>6</td>\n",
       "      <td>4422$</td>\n",
       "      <td>test</td>\n",
       "    </tr>\n",
       "    <tr>\n",
       "      <th>1</th>\n",
       "      <td>2</td>\n",
       "      <td>311</td>\n",
       "      <td>6.0</td>\n",
       "      <td>5.0</td>\n",
       "      <td>5.0</td>\n",
       "      <td>6</td>\n",
       "      <td>NO</td>\n",
       "      <td>0.0</td>\n",
       "      <td>86.0</td>\n",
       "      <td>6</td>\n",
       "      <td>83.0</td>\n",
       "      <td>4</td>\n",
       "      <td>3432$</td>\n",
       "      <td>test</td>\n",
       "    </tr>\n",
       "    <tr>\n",
       "      <th>2</th>\n",
       "      <td>3</td>\n",
       "      <td>342</td>\n",
       "      <td>5.0</td>\n",
       "      <td>6.0</td>\n",
       "      <td>6.0</td>\n",
       "      <td>7</td>\n",
       "      <td>yes</td>\n",
       "      <td>120.0</td>\n",
       "      <td>85.0</td>\n",
       "      <td>4</td>\n",
       "      <td>95.0</td>\n",
       "      <td>5</td>\n",
       "      <td>4066$</td>\n",
       "      <td>test</td>\n",
       "    </tr>\n",
       "    <tr>\n",
       "      <th>3</th>\n",
       "      <td>4</td>\n",
       "      <td>329</td>\n",
       "      <td>7.0</td>\n",
       "      <td>7.0</td>\n",
       "      <td>4.0</td>\n",
       "      <td>6</td>\n",
       "      <td>NaN</td>\n",
       "      <td>NaN</td>\n",
       "      <td>105.0</td>\n",
       "      <td>5</td>\n",
       "      <td>97.0</td>\n",
       "      <td>6</td>\n",
       "      <td>4322$</td>\n",
       "      <td>test</td>\n",
       "    </tr>\n",
       "    <tr>\n",
       "      <th>4</th>\n",
       "      <td>5</td>\n",
       "      <td>307</td>\n",
       "      <td>6.0</td>\n",
       "      <td>2.0</td>\n",
       "      <td>3.0</td>\n",
       "      <td>4</td>\n",
       "      <td>no</td>\n",
       "      <td>0.0</td>\n",
       "      <td>76.0</td>\n",
       "      <td>2</td>\n",
       "      <td>64.0</td>\n",
       "      <td>4</td>\n",
       "      <td>3031$</td>\n",
       "      <td>test</td>\n",
       "    </tr>\n",
       "  </tbody>\n",
       "</table>\n",
       "</div>"
      ],
      "text/plain": [
       "   id  Area(total)  Troom  Nbedrooms  Nbwashrooms  Twashrooms roof  \\\n",
       "0   1          348    9.0        5.0          3.0           5  NaN   \n",
       "1   2          311    6.0        5.0          5.0           6   NO   \n",
       "2   3          342    5.0        6.0          6.0           7  yes   \n",
       "3   4          329    7.0        7.0          4.0           6  NaN   \n",
       "4   5          307    6.0        2.0          3.0           4   no   \n",
       "\n",
       "   Roof(Area)  Lawn(Area)  Nfloors   API  ANB EXPECTED Grade  \n",
       "0         NaN        84.0        5  91.0    6    4422$  test  \n",
       "1         0.0        86.0        6  83.0    4    3432$  test  \n",
       "2       120.0        85.0        4  95.0    5    4066$  test  \n",
       "3         NaN       105.0        5  97.0    6    4322$  test  \n",
       "4         0.0        76.0        2  64.0    4    3031$  test  "
      ]
     },
     "execution_count": 11,
     "metadata": {},
     "output_type": "execute_result"
    }
   ],
   "source": [
    "test_df.head()"
   ]
  },
  {
   "cell_type": "code",
   "execution_count": 12,
   "id": "e03db423",
   "metadata": {},
   "outputs": [],
   "source": [
    "combined_df=pd.concat([train_df,test_df],axis=0)\n"
   ]
  },
  {
   "cell_type": "code",
   "execution_count": 13,
   "id": "27492634",
   "metadata": {},
   "outputs": [
    {
     "name": "stdout",
     "output_type": "stream",
     "text": [
      "<class 'pandas.core.frame.DataFrame'>\n",
      "Int64Index: 10299 entries, 0 to 3298\n",
      "Data columns (total 14 columns):\n",
      " #   Column       Non-Null Count  Dtype  \n",
      "---  ------       --------------  -----  \n",
      " 0   id           10299 non-null  int64  \n",
      " 1   Area(total)  10299 non-null  int64  \n",
      " 2   Troom        10296 non-null  float64\n",
      " 3   Nbedrooms    10295 non-null  float64\n",
      " 4   Nbwashrooms  10296 non-null  float64\n",
      " 5   Twashrooms   10298 non-null  float64\n",
      " 6   roof         8293 non-null   object \n",
      " 7   Roof(Area)   8293 non-null   float64\n",
      " 8   Lawn(Area)   10296 non-null  float64\n",
      " 9   Nfloors      10299 non-null  int64  \n",
      " 10  API          10297 non-null  float64\n",
      " 11  ANB          10299 non-null  int64  \n",
      " 12  Grade        10299 non-null  object \n",
      " 13  EXPECTED     10299 non-null  object \n",
      "dtypes: float64(7), int64(4), object(3)\n",
      "memory usage: 1.2+ MB\n"
     ]
    }
   ],
   "source": [
    "combined_df.info()"
   ]
  },
  {
   "cell_type": "code",
   "execution_count": 14,
   "id": "cf726314",
   "metadata": {},
   "outputs": [
    {
     "data": {
      "text/html": [
       "<div>\n",
       "<style scoped>\n",
       "    .dataframe tbody tr th:only-of-type {\n",
       "        vertical-align: middle;\n",
       "    }\n",
       "\n",
       "    .dataframe tbody tr th {\n",
       "        vertical-align: top;\n",
       "    }\n",
       "\n",
       "    .dataframe thead th {\n",
       "        text-align: right;\n",
       "    }\n",
       "</style>\n",
       "<table border=\"1\" class=\"dataframe\">\n",
       "  <thead>\n",
       "    <tr style=\"text-align: right;\">\n",
       "      <th></th>\n",
       "      <th>id</th>\n",
       "      <th>Area(total)</th>\n",
       "      <th>Troom</th>\n",
       "      <th>Nbedrooms</th>\n",
       "      <th>Nbwashrooms</th>\n",
       "      <th>Twashrooms</th>\n",
       "      <th>roof</th>\n",
       "      <th>Roof(Area)</th>\n",
       "      <th>Lawn(Area)</th>\n",
       "      <th>Nfloors</th>\n",
       "      <th>API</th>\n",
       "      <th>ANB</th>\n",
       "      <th>Grade</th>\n",
       "      <th>EXPECTED</th>\n",
       "    </tr>\n",
       "  </thead>\n",
       "  <tbody>\n",
       "    <tr>\n",
       "      <th>0</th>\n",
       "      <td>1</td>\n",
       "      <td>305</td>\n",
       "      <td>8.0</td>\n",
       "      <td>2.0</td>\n",
       "      <td>1.0</td>\n",
       "      <td>3.0</td>\n",
       "      <td>NO</td>\n",
       "      <td>0.0</td>\n",
       "      <td>76.0</td>\n",
       "      <td>2</td>\n",
       "      <td>63.0</td>\n",
       "      <td>4</td>\n",
       "      <td>D</td>\n",
       "      <td>3826$</td>\n",
       "    </tr>\n",
       "    <tr>\n",
       "      <th>1</th>\n",
       "      <td>2</td>\n",
       "      <td>344</td>\n",
       "      <td>6.0</td>\n",
       "      <td>7.0</td>\n",
       "      <td>7.0</td>\n",
       "      <td>8.0</td>\n",
       "      <td>no</td>\n",
       "      <td>0.0</td>\n",
       "      <td>83.0</td>\n",
       "      <td>7</td>\n",
       "      <td>97.0</td>\n",
       "      <td>1</td>\n",
       "      <td>B</td>\n",
       "      <td>4458$</td>\n",
       "    </tr>\n",
       "    <tr>\n",
       "      <th>2</th>\n",
       "      <td>3</td>\n",
       "      <td>294</td>\n",
       "      <td>8.0</td>\n",
       "      <td>4.0</td>\n",
       "      <td>3.0</td>\n",
       "      <td>4.0</td>\n",
       "      <td>yes</td>\n",
       "      <td>97.0</td>\n",
       "      <td>78.0</td>\n",
       "      <td>1</td>\n",
       "      <td>88.0</td>\n",
       "      <td>4</td>\n",
       "      <td>C</td>\n",
       "      <td>4199$</td>\n",
       "    </tr>\n",
       "    <tr>\n",
       "      <th>3</th>\n",
       "      <td>4</td>\n",
       "      <td>328</td>\n",
       "      <td>5.0</td>\n",
       "      <td>4.0</td>\n",
       "      <td>2.0</td>\n",
       "      <td>4.0</td>\n",
       "      <td>NO</td>\n",
       "      <td>0.0</td>\n",
       "      <td>91.0</td>\n",
       "      <td>5</td>\n",
       "      <td>86.0</td>\n",
       "      <td>1</td>\n",
       "      <td>D</td>\n",
       "      <td>3462$</td>\n",
       "    </tr>\n",
       "    <tr>\n",
       "      <th>4</th>\n",
       "      <td>5</td>\n",
       "      <td>295</td>\n",
       "      <td>9.0</td>\n",
       "      <td>5.0</td>\n",
       "      <td>3.0</td>\n",
       "      <td>5.0</td>\n",
       "      <td>NaN</td>\n",
       "      <td>NaN</td>\n",
       "      <td>97.0</td>\n",
       "      <td>4</td>\n",
       "      <td>93.0</td>\n",
       "      <td>3</td>\n",
       "      <td>C</td>\n",
       "      <td>4543$</td>\n",
       "    </tr>\n",
       "  </tbody>\n",
       "</table>\n",
       "</div>"
      ],
      "text/plain": [
       "   id  Area(total)  Troom  Nbedrooms  Nbwashrooms  Twashrooms roof  \\\n",
       "0   1          305    8.0        2.0          1.0         3.0   NO   \n",
       "1   2          344    6.0        7.0          7.0         8.0   no   \n",
       "2   3          294    8.0        4.0          3.0         4.0  yes   \n",
       "3   4          328    5.0        4.0          2.0         4.0   NO   \n",
       "4   5          295    9.0        5.0          3.0         5.0  NaN   \n",
       "\n",
       "   Roof(Area)  Lawn(Area)  Nfloors   API  ANB Grade EXPECTED  \n",
       "0         0.0        76.0        2  63.0    4     D    3826$  \n",
       "1         0.0        83.0        7  97.0    1     B    4458$  \n",
       "2        97.0        78.0        1  88.0    4     C    4199$  \n",
       "3         0.0        91.0        5  86.0    1     D    3462$  \n",
       "4         NaN        97.0        4  93.0    3     C    4543$  "
      ]
     },
     "execution_count": 14,
     "metadata": {},
     "output_type": "execute_result"
    }
   ],
   "source": [
    "combined_df.head()"
   ]
  },
  {
   "cell_type": "code",
   "execution_count": 15,
   "id": "98a8fe7a",
   "metadata": {
    "scrolled": true
   },
   "outputs": [
    {
     "data": {
      "text/plain": [
       "id                0\n",
       "Area(total)       0\n",
       "Troom             3\n",
       "Nbedrooms         4\n",
       "Nbwashrooms       3\n",
       "Twashrooms        1\n",
       "roof           2006\n",
       "Roof(Area)     2006\n",
       "Lawn(Area)        3\n",
       "Nfloors           0\n",
       "API               2\n",
       "ANB               0\n",
       "Grade             0\n",
       "EXPECTED          0\n",
       "dtype: int64"
      ]
     },
     "execution_count": 15,
     "metadata": {},
     "output_type": "execute_result"
    }
   ],
   "source": [
    "combined_df.isnull().sum()"
   ]
  },
  {
   "cell_type": "code",
   "execution_count": 16,
   "id": "ec047429",
   "metadata": {},
   "outputs": [
    {
     "data": {
      "text/plain": [
       "(10299, 14)"
      ]
     },
     "execution_count": 16,
     "metadata": {},
     "output_type": "execute_result"
    }
   ],
   "source": [
    "combined_df.shape"
   ]
  },
  {
   "cell_type": "code",
   "execution_count": 17,
   "id": "8b3e58f1",
   "metadata": {},
   "outputs": [
    {
     "data": {
      "text/plain": [
       "Index(['id', 'Area(total)', 'Troom', 'Nbedrooms', 'Nbwashrooms', 'Twashrooms',\n",
       "       'roof', 'Roof(Area)', 'Lawn(Area)', 'Nfloors', 'API', 'ANB', 'Grade',\n",
       "       'EXPECTED'],\n",
       "      dtype='object')"
      ]
     },
     "execution_count": 17,
     "metadata": {},
     "output_type": "execute_result"
    }
   ],
   "source": [
    "combined_df.columns"
   ]
  },
  {
   "cell_type": "markdown",
   "id": "e3e48cb9",
   "metadata": {},
   "source": [
    "#### *MISSING VALUE IMPUTATION*"
   ]
  },
  {
   "cell_type": "code",
   "execution_count": 18,
   "id": "86f00095",
   "metadata": {},
   "outputs": [
    {
     "data": {
      "text/plain": [
       "4.0    2037\n",
       "6.0    2029\n",
       "5.0    2023\n",
       "3.0    1416\n",
       "7.0    1401\n",
       "2.0     696\n",
       "8.0     693\n",
       "NaN       4\n",
       "Name: Nbedrooms, dtype: int64"
      ]
     },
     "execution_count": 18,
     "metadata": {},
     "output_type": "execute_result"
    }
   ],
   "source": [
    "combined_df.Nbedrooms.value_counts(dropna=False)\n"
   ]
  },
  {
   "cell_type": "code",
   "execution_count": 19,
   "id": "81f5a5e6",
   "metadata": {},
   "outputs": [
    {
     "data": {
      "text/plain": [
       "count    10295.000000\n",
       "mean         4.995435\n",
       "std          1.644379\n",
       "min          2.000000\n",
       "25%          4.000000\n",
       "50%          5.000000\n",
       "75%          6.000000\n",
       "max          8.000000\n",
       "Name: Nbedrooms, dtype: float64"
      ]
     },
     "execution_count": 19,
     "metadata": {},
     "output_type": "execute_result"
    }
   ],
   "source": [
    "combined_df.Nbedrooms.describe()"
   ]
  },
  {
   "cell_type": "code",
   "execution_count": 20,
   "id": "63421454",
   "metadata": {},
   "outputs": [],
   "source": [
    "combined_df.Nbedrooms.fillna(4.0,inplace=True) #most occuring is 4"
   ]
  },
  {
   "cell_type": "code",
   "execution_count": 21,
   "id": "fe8c3a3a",
   "metadata": {},
   "outputs": [
    {
     "data": {
      "text/plain": [
       "9.0    2095\n",
       "5.0    2081\n",
       "7.0    2066\n",
       "6.0    2028\n",
       "8.0    2026\n",
       "NaN       3\n",
       "Name: Troom, dtype: int64"
      ]
     },
     "execution_count": 21,
     "metadata": {},
     "output_type": "execute_result"
    }
   ],
   "source": [
    "combined_df.Troom.value_counts(dropna=False)\n"
   ]
  },
  {
   "cell_type": "code",
   "execution_count": 22,
   "id": "c57bdaf2",
   "metadata": {},
   "outputs": [
    {
     "data": {
      "text/plain": [
       "count    10296.000000\n",
       "mean         7.002525\n",
       "std          1.419969\n",
       "min          5.000000\n",
       "25%          6.000000\n",
       "50%          7.000000\n",
       "75%          8.000000\n",
       "max          9.000000\n",
       "Name: Troom, dtype: float64"
      ]
     },
     "execution_count": 22,
     "metadata": {},
     "output_type": "execute_result"
    }
   ],
   "source": [
    "combined_df.Troom.describe()"
   ]
  },
  {
   "cell_type": "code",
   "execution_count": 23,
   "id": "dea045e6",
   "metadata": {},
   "outputs": [],
   "source": [
    "combined_df.Troom.fillna(7,inplace=True) ## as the mean is very closer to 7\n"
   ]
  },
  {
   "cell_type": "code",
   "execution_count": 24,
   "id": "cd2d964c",
   "metadata": {},
   "outputs": [
    {
     "data": {
      "text/plain": [
       "3.0    2090\n",
       "5.0    2080\n",
       "4.0    2026\n",
       "6.0    1540\n",
       "2.0    1526\n",
       "7.0     523\n",
       "1.0     511\n",
       "NaN       3\n",
       "Name: Nbwashrooms, dtype: int64"
      ]
     },
     "execution_count": 24,
     "metadata": {},
     "output_type": "execute_result"
    }
   ],
   "source": [
    "combined_df.Nbwashrooms.value_counts(dropna=False)\n"
   ]
  },
  {
   "cell_type": "code",
   "execution_count": 25,
   "id": "769d38df",
   "metadata": {},
   "outputs": [],
   "source": [
    "combined_df.Nbwashrooms.fillna(3.0,inplace=True) # most occuring is \n"
   ]
  },
  {
   "cell_type": "code",
   "execution_count": 26,
   "id": "d7e61a4a",
   "metadata": {},
   "outputs": [
    {
     "data": {
      "text/plain": [
       "4.0    2113\n",
       "6.0    2078\n",
       "7.0    2069\n",
       "5.0    2021\n",
       "8.0    1019\n",
       "3.0     998\n",
       "NaN       1\n",
       "Name: Twashrooms, dtype: int64"
      ]
     },
     "execution_count": 26,
     "metadata": {},
     "output_type": "execute_result"
    }
   ],
   "source": [
    "combined_df.Twashrooms.value_counts(dropna=False)\n"
   ]
  },
  {
   "cell_type": "code",
   "execution_count": 27,
   "id": "bd7678b9",
   "metadata": {},
   "outputs": [],
   "source": [
    "combined_df.Twashrooms.fillna(combined_df.Twashrooms.value_counts().idxmax(),inplace=True)"
   ]
  },
  {
   "cell_type": "code",
   "execution_count": 28,
   "id": "ff680bc5",
   "metadata": {},
   "outputs": [
    {
     "data": {
      "text/plain": [
       "count    10296.000000\n",
       "mean        90.013112\n",
       "std         11.824232\n",
       "min         70.000000\n",
       "25%         80.000000\n",
       "50%         90.000000\n",
       "75%        100.000000\n",
       "max        110.000000\n",
       "Name: Lawn(Area), dtype: float64"
      ]
     },
     "execution_count": 28,
     "metadata": {},
     "output_type": "execute_result"
    }
   ],
   "source": [
    "combined_df['Lawn(Area)'].describe()"
   ]
  },
  {
   "cell_type": "code",
   "execution_count": 29,
   "id": "c90ffd84",
   "metadata": {},
   "outputs": [],
   "source": [
    "combined_df['Lawn(Area)'].fillna(combined_df['Lawn(Area)'].mean(),inplace=True)"
   ]
  },
  {
   "cell_type": "code",
   "execution_count": 30,
   "id": "05b0095b",
   "metadata": {},
   "outputs": [
    {
     "data": {
      "text/plain": [
       "count    10297.000000\n",
       "mean        79.029038\n",
       "std         11.839374\n",
       "min         59.000000\n",
       "25%         69.000000\n",
       "50%         79.000000\n",
       "75%         89.000000\n",
       "max         99.000000\n",
       "Name: API, dtype: float64"
      ]
     },
     "execution_count": 30,
     "metadata": {},
     "output_type": "execute_result"
    }
   ],
   "source": [
    "combined_df.API.describe()\n"
   ]
  },
  {
   "cell_type": "code",
   "execution_count": 31,
   "id": "3551f52f",
   "metadata": {},
   "outputs": [],
   "source": [
    "combined_df.API.fillna(combined_df.API.mean(),inplace=True)\n"
   ]
  },
  {
   "cell_type": "code",
   "execution_count": 32,
   "id": "db30b4f2",
   "metadata": {},
   "outputs": [
    {
     "data": {
      "text/plain": [
       "id                0\n",
       "Area(total)       0\n",
       "Troom             0\n",
       "Nbedrooms         0\n",
       "Nbwashrooms       0\n",
       "Twashrooms        0\n",
       "roof           2006\n",
       "Roof(Area)     2006\n",
       "Lawn(Area)        0\n",
       "Nfloors           0\n",
       "API               0\n",
       "ANB               0\n",
       "Grade             0\n",
       "EXPECTED          0\n",
       "dtype: int64"
      ]
     },
     "execution_count": 32,
     "metadata": {},
     "output_type": "execute_result"
    }
   ],
   "source": [
    "combined_df.isnull().sum()\n"
   ]
  },
  {
   "cell_type": "code",
   "execution_count": 33,
   "id": "a9a0cc3f",
   "metadata": {
    "scrolled": true
   },
   "outputs": [
    {
     "data": {
      "text/plain": [
       "no     2100\n",
       "NO     2095\n",
       "yes    2063\n",
       "YES    2035\n",
       "NaN    2006\n",
       "Name: roof, dtype: int64"
      ]
     },
     "execution_count": 33,
     "metadata": {},
     "output_type": "execute_result"
    }
   ],
   "source": [
    "combined_df.roof.value_counts(dropna=False)\n"
   ]
  },
  {
   "cell_type": "markdown",
   "id": "f7c90fcb",
   "metadata": {},
   "source": [
    "###### SINCE THERE ARE MANY NaN VALUES, IMPUTING THESE IN ANY OF THE CATEGORY MAY LEAD TO BIAS, AND THE MODEL MIGHT NOT PERFROM WELL, WE ARE GOING TO NAME IT AS UNKNOWN"
   ]
  },
  {
   "cell_type": "code",
   "execution_count": 34,
   "id": "43355480",
   "metadata": {},
   "outputs": [],
   "source": [
    "combined_df.roof.replace(['no','NO'],'No',inplace=True) ## both no and NO signifies the same category, so have been combined\n",
    "                                                        \n"
   ]
  },
  {
   "cell_type": "code",
   "execution_count": 35,
   "id": "3661166d",
   "metadata": {},
   "outputs": [],
   "source": [
    "combined_df.roof.replace(['yes','YES'],'Yes',inplace=True)## both yes and YES signifies the same category, so have been combined"
   ]
  },
  {
   "cell_type": "code",
   "execution_count": 36,
   "id": "a61edd12",
   "metadata": {},
   "outputs": [],
   "source": [
    "combined_df.roof.fillna('Not known',inplace=True)\n"
   ]
  },
  {
   "cell_type": "code",
   "execution_count": 37,
   "id": "af3c2ec6",
   "metadata": {
    "scrolled": true
   },
   "outputs": [
    {
     "data": {
      "text/plain": [
       "0.0      4195\n",
       "NaN      2006\n",
       "84.0      108\n",
       "88.0       99\n",
       "112.0      95\n",
       "80.0       95\n",
       "105.0      94\n",
       "117.0      94\n",
       "95.0       93\n",
       "90.0       92\n",
       "118.0      89\n",
       "114.0      89\n",
       "98.0       88\n",
       "111.0      88\n",
       "113.0      88\n",
       "94.0       87\n",
       "82.0       86\n",
       "93.0       85\n",
       "120.0      85\n",
       "79.0       85\n",
       "96.0       85\n",
       "75.0       84\n",
       "78.0       84\n",
       "72.0       84\n",
       "97.0       84\n",
       "107.0      83\n",
       "71.0       82\n",
       "91.0       81\n",
       "86.0       81\n",
       "73.0       80\n",
       "102.0      79\n",
       "103.0      78\n",
       "99.0       78\n",
       "101.0      78\n",
       "108.0      77\n",
       "119.0      77\n",
       "87.0       77\n",
       "115.0      76\n",
       "106.0      76\n",
       "109.0      76\n",
       "77.0       76\n",
       "81.0       75\n",
       "74.0       74\n",
       "76.0       73\n",
       "104.0      73\n",
       "89.0       73\n",
       "92.0       72\n",
       "85.0       71\n",
       "116.0      71\n",
       "100.0      69\n",
       "110.0      68\n",
       "83.0       63\n",
       "Name: Roof(Area), dtype: int64"
      ]
     },
     "execution_count": 37,
     "metadata": {},
     "output_type": "execute_result"
    }
   ],
   "source": [
    "combined_df[\"Roof(Area)\"].value_counts(dropna=False)\n"
   ]
  },
  {
   "cell_type": "code",
   "execution_count": 38,
   "id": "7e350465",
   "metadata": {},
   "outputs": [],
   "source": [
    "combined_df['Roof(Area)'].fillna(combined_df['Roof(Area)'].mean(),inplace=True)"
   ]
  },
  {
   "cell_type": "code",
   "execution_count": 39,
   "id": "8260ea0e",
   "metadata": {},
   "outputs": [
    {
     "data": {
      "text/plain": [
       "id             0\n",
       "Area(total)    0\n",
       "Troom          0\n",
       "Nbedrooms      0\n",
       "Nbwashrooms    0\n",
       "Twashrooms     0\n",
       "roof           0\n",
       "Roof(Area)     0\n",
       "Lawn(Area)     0\n",
       "Nfloors        0\n",
       "API            0\n",
       "ANB            0\n",
       "Grade          0\n",
       "EXPECTED       0\n",
       "dtype: int64"
      ]
     },
     "execution_count": 39,
     "metadata": {},
     "output_type": "execute_result"
    }
   ],
   "source": [
    "combined_df.isnull().sum()"
   ]
  },
  {
   "cell_type": "code",
   "execution_count": 40,
   "id": "e2ac9e3a",
   "metadata": {},
   "outputs": [
    {
     "name": "stdout",
     "output_type": "stream",
     "text": [
      "<class 'pandas.core.frame.DataFrame'>\n",
      "Int64Index: 10299 entries, 0 to 3298\n",
      "Data columns (total 14 columns):\n",
      " #   Column       Non-Null Count  Dtype  \n",
      "---  ------       --------------  -----  \n",
      " 0   id           10299 non-null  int64  \n",
      " 1   Area(total)  10299 non-null  int64  \n",
      " 2   Troom        10299 non-null  float64\n",
      " 3   Nbedrooms    10299 non-null  float64\n",
      " 4   Nbwashrooms  10299 non-null  float64\n",
      " 5   Twashrooms   10299 non-null  float64\n",
      " 6   roof         10299 non-null  object \n",
      " 7   Roof(Area)   10299 non-null  float64\n",
      " 8   Lawn(Area)   10299 non-null  float64\n",
      " 9   Nfloors      10299 non-null  int64  \n",
      " 10  API          10299 non-null  float64\n",
      " 11  ANB          10299 non-null  int64  \n",
      " 12  Grade        10299 non-null  object \n",
      " 13  EXPECTED     10299 non-null  object \n",
      "dtypes: float64(7), int64(4), object(3)\n",
      "memory usage: 1.2+ MB\n"
     ]
    }
   ],
   "source": [
    "combined_df.info() ## here we can see that the column EXPECTED is been taken as object, which infact to be considered as int or float\n",
    "                   # as this column represent the Expected Price of the House"
   ]
  },
  {
   "cell_type": "code",
   "execution_count": 41,
   "id": "db6e8d69",
   "metadata": {},
   "outputs": [
    {
     "name": "stderr",
     "output_type": "stream",
     "text": [
      "C:\\Users\\Admin\\AppData\\Local\\Temp\\ipykernel_7472\\255718302.py:1: FutureWarning: The default value of regex will change from True to False in a future version. In addition, single character regular expressions will *not* be treated as literal strings when regex=True.\n",
      "  combined_df.EXPECTED=combined_df.EXPECTED.str.replace('$','')\n"
     ]
    }
   ],
   "source": [
    "combined_df.EXPECTED=combined_df.EXPECTED.str.replace('$','')\n"
   ]
  },
  {
   "cell_type": "code",
   "execution_count": 42,
   "id": "45f027ad",
   "metadata": {},
   "outputs": [
    {
     "data": {
      "text/html": [
       "<div>\n",
       "<style scoped>\n",
       "    .dataframe tbody tr th:only-of-type {\n",
       "        vertical-align: middle;\n",
       "    }\n",
       "\n",
       "    .dataframe tbody tr th {\n",
       "        vertical-align: top;\n",
       "    }\n",
       "\n",
       "    .dataframe thead th {\n",
       "        text-align: right;\n",
       "    }\n",
       "</style>\n",
       "<table border=\"1\" class=\"dataframe\">\n",
       "  <thead>\n",
       "    <tr style=\"text-align: right;\">\n",
       "      <th></th>\n",
       "      <th>id</th>\n",
       "      <th>Area(total)</th>\n",
       "      <th>Troom</th>\n",
       "      <th>Nbedrooms</th>\n",
       "      <th>Nbwashrooms</th>\n",
       "      <th>Twashrooms</th>\n",
       "      <th>roof</th>\n",
       "      <th>Roof(Area)</th>\n",
       "      <th>Lawn(Area)</th>\n",
       "      <th>Nfloors</th>\n",
       "      <th>API</th>\n",
       "      <th>ANB</th>\n",
       "      <th>Grade</th>\n",
       "      <th>EXPECTED</th>\n",
       "    </tr>\n",
       "  </thead>\n",
       "  <tbody>\n",
       "    <tr>\n",
       "      <th>0</th>\n",
       "      <td>1</td>\n",
       "      <td>305</td>\n",
       "      <td>8.0</td>\n",
       "      <td>2.0</td>\n",
       "      <td>1.0</td>\n",
       "      <td>3.0</td>\n",
       "      <td>No</td>\n",
       "      <td>0.000000</td>\n",
       "      <td>76.0</td>\n",
       "      <td>2</td>\n",
       "      <td>63.0</td>\n",
       "      <td>4</td>\n",
       "      <td>D</td>\n",
       "      <td>3826</td>\n",
       "    </tr>\n",
       "    <tr>\n",
       "      <th>1</th>\n",
       "      <td>2</td>\n",
       "      <td>344</td>\n",
       "      <td>6.0</td>\n",
       "      <td>7.0</td>\n",
       "      <td>7.0</td>\n",
       "      <td>8.0</td>\n",
       "      <td>No</td>\n",
       "      <td>0.000000</td>\n",
       "      <td>83.0</td>\n",
       "      <td>7</td>\n",
       "      <td>97.0</td>\n",
       "      <td>1</td>\n",
       "      <td>B</td>\n",
       "      <td>4458</td>\n",
       "    </tr>\n",
       "    <tr>\n",
       "      <th>2</th>\n",
       "      <td>3</td>\n",
       "      <td>294</td>\n",
       "      <td>8.0</td>\n",
       "      <td>4.0</td>\n",
       "      <td>3.0</td>\n",
       "      <td>4.0</td>\n",
       "      <td>Yes</td>\n",
       "      <td>97.000000</td>\n",
       "      <td>78.0</td>\n",
       "      <td>1</td>\n",
       "      <td>88.0</td>\n",
       "      <td>4</td>\n",
       "      <td>C</td>\n",
       "      <td>4199</td>\n",
       "    </tr>\n",
       "    <tr>\n",
       "      <th>3</th>\n",
       "      <td>4</td>\n",
       "      <td>328</td>\n",
       "      <td>5.0</td>\n",
       "      <td>4.0</td>\n",
       "      <td>2.0</td>\n",
       "      <td>4.0</td>\n",
       "      <td>No</td>\n",
       "      <td>0.000000</td>\n",
       "      <td>91.0</td>\n",
       "      <td>5</td>\n",
       "      <td>86.0</td>\n",
       "      <td>1</td>\n",
       "      <td>D</td>\n",
       "      <td>3462</td>\n",
       "    </tr>\n",
       "    <tr>\n",
       "      <th>4</th>\n",
       "      <td>5</td>\n",
       "      <td>295</td>\n",
       "      <td>9.0</td>\n",
       "      <td>5.0</td>\n",
       "      <td>3.0</td>\n",
       "      <td>5.0</td>\n",
       "      <td>Not known</td>\n",
       "      <td>47.223321</td>\n",
       "      <td>97.0</td>\n",
       "      <td>4</td>\n",
       "      <td>93.0</td>\n",
       "      <td>3</td>\n",
       "      <td>C</td>\n",
       "      <td>4543</td>\n",
       "    </tr>\n",
       "  </tbody>\n",
       "</table>\n",
       "</div>"
      ],
      "text/plain": [
       "   id  Area(total)  Troom  Nbedrooms  Nbwashrooms  Twashrooms       roof  \\\n",
       "0   1          305    8.0        2.0          1.0         3.0         No   \n",
       "1   2          344    6.0        7.0          7.0         8.0         No   \n",
       "2   3          294    8.0        4.0          3.0         4.0        Yes   \n",
       "3   4          328    5.0        4.0          2.0         4.0         No   \n",
       "4   5          295    9.0        5.0          3.0         5.0  Not known   \n",
       "\n",
       "   Roof(Area)  Lawn(Area)  Nfloors   API  ANB Grade EXPECTED  \n",
       "0    0.000000        76.0        2  63.0    4     D     3826  \n",
       "1    0.000000        83.0        7  97.0    1     B     4458  \n",
       "2   97.000000        78.0        1  88.0    4     C     4199  \n",
       "3    0.000000        91.0        5  86.0    1     D     3462  \n",
       "4   47.223321        97.0        4  93.0    3     C     4543  "
      ]
     },
     "execution_count": 42,
     "metadata": {},
     "output_type": "execute_result"
    }
   ],
   "source": [
    "combined_df.head() ## now the special character is been succesfully removed"
   ]
  },
  {
   "cell_type": "code",
   "execution_count": 43,
   "id": "dd50af2e",
   "metadata": {},
   "outputs": [],
   "source": [
    "combined_df.EXPECTED=combined_df.EXPECTED.astype(float)\n"
   ]
  },
  {
   "cell_type": "code",
   "execution_count": 44,
   "id": "32557d10",
   "metadata": {},
   "outputs": [
    {
     "name": "stdout",
     "output_type": "stream",
     "text": [
      "<class 'pandas.core.frame.DataFrame'>\n",
      "Int64Index: 10299 entries, 0 to 3298\n",
      "Data columns (total 14 columns):\n",
      " #   Column       Non-Null Count  Dtype  \n",
      "---  ------       --------------  -----  \n",
      " 0   id           10299 non-null  int64  \n",
      " 1   Area(total)  10299 non-null  int64  \n",
      " 2   Troom        10299 non-null  float64\n",
      " 3   Nbedrooms    10299 non-null  float64\n",
      " 4   Nbwashrooms  10299 non-null  float64\n",
      " 5   Twashrooms   10299 non-null  float64\n",
      " 6   roof         10299 non-null  object \n",
      " 7   Roof(Area)   10299 non-null  float64\n",
      " 8   Lawn(Area)   10299 non-null  float64\n",
      " 9   Nfloors      10299 non-null  int64  \n",
      " 10  API          10299 non-null  float64\n",
      " 11  ANB          10299 non-null  int64  \n",
      " 12  Grade        10299 non-null  object \n",
      " 13  EXPECTED     10299 non-null  float64\n",
      "dtypes: float64(8), int64(4), object(2)\n",
      "memory usage: 1.2+ MB\n"
     ]
    }
   ],
   "source": [
    "combined_df.info() ## data type of EXPECTED column has been changed."
   ]
  },
  {
   "cell_type": "markdown",
   "id": "ce7a6bd7",
   "metadata": {},
   "source": [
    "## EXPLORATORY DATA ANALYSIS"
   ]
  },
  {
   "cell_type": "code",
   "execution_count": 45,
   "id": "f773c7d6",
   "metadata": {},
   "outputs": [],
   "source": [
    "numcols=combined_df.select_dtypes(include=np.number)\n",
    "objcols=combined_df.select_dtypes(include=['object'])"
   ]
  },
  {
   "cell_type": "code",
   "execution_count": 46,
   "id": "97c1165c",
   "metadata": {
    "scrolled": true
   },
   "outputs": [
    {
     "data": {
      "text/plain": [
       "Index(['id', 'Area(total)', 'Troom', 'Nbedrooms', 'Nbwashrooms', 'Twashrooms',\n",
       "       'Roof(Area)', 'Lawn(Area)', 'Nfloors', 'API', 'ANB', 'EXPECTED'],\n",
       "      dtype='object')"
      ]
     },
     "execution_count": 46,
     "metadata": {},
     "output_type": "execute_result"
    }
   ],
   "source": [
    "numcols.columns"
   ]
  },
  {
   "cell_type": "code",
   "execution_count": 47,
   "id": "022552d3",
   "metadata": {},
   "outputs": [
    {
     "data": {
      "text/plain": [
       "Index(['roof', 'Grade'], dtype='object')"
      ]
     },
     "execution_count": 47,
     "metadata": {},
     "output_type": "execute_result"
    }
   ],
   "source": [
    "objcols.columns"
   ]
  },
  {
   "cell_type": "code",
   "execution_count": 48,
   "id": "97e9d262",
   "metadata": {},
   "outputs": [
    {
     "data": {
      "text/plain": [
       "<AxesSubplot:>"
      ]
     },
     "execution_count": 48,
     "metadata": {},
     "output_type": "execute_result"
    },
    {
     "data": {
      "image/png": "[encoded data removed]",
      "text/plain": [
       "<Figure size 3000x1500 with 2 Axes>"
      ]
     },
     "metadata": {},
     "output_type": "display_data"
    }
   ],
   "source": [
    "plt.figure(figsize=(30,15))\n",
    "sns.heatmap(numcols.corr(),annot=True,cmap=\"plasma\")"
   ]
  },
  {
   "cell_type": "markdown",
   "id": "38eaf1cb",
   "metadata": {},
   "source": [
    "######  let us seperate the train and test data "
   ]
  },
  {
   "cell_type": "code",
   "execution_count": 49,
   "id": "fa8280b2",
   "metadata": {},
   "outputs": [],
   "source": [
    "train_data = combined_df[combined_df.Grade!='test']\n",
    "test_data = combined_df[combined_df.Grade=='test'].drop('Grade',axis=1)\n"
   ]
  },
  {
   "cell_type": "code",
   "execution_count": 50,
   "id": "2253a91d",
   "metadata": {},
   "outputs": [
    {
     "name": "stdout",
     "output_type": "stream",
     "text": [
      "<class 'pandas.core.frame.DataFrame'>\n",
      "Int64Index: 7000 entries, 0 to 6999\n",
      "Data columns (total 14 columns):\n",
      " #   Column       Non-Null Count  Dtype  \n",
      "---  ------       --------------  -----  \n",
      " 0   id           7000 non-null   int64  \n",
      " 1   Area(total)  7000 non-null   int64  \n",
      " 2   Troom        7000 non-null   float64\n",
      " 3   Nbedrooms    7000 non-null   float64\n",
      " 4   Nbwashrooms  7000 non-null   float64\n",
      " 5   Twashrooms   7000 non-null   float64\n",
      " 6   roof         7000 non-null   object \n",
      " 7   Roof(Area)   7000 non-null   float64\n",
      " 8   Lawn(Area)   7000 non-null   float64\n",
      " 9   Nfloors      7000 non-null   int64  \n",
      " 10  API          7000 non-null   float64\n",
      " 11  ANB          7000 non-null   int64  \n",
      " 12  Grade        7000 non-null   object \n",
      " 13  EXPECTED     7000 non-null   float64\n",
      "dtypes: float64(8), int64(4), object(2)\n",
      "memory usage: 820.3+ KB\n"
     ]
    }
   ],
   "source": [
    "train_data.info()"
   ]
  },
  {
   "cell_type": "code",
   "execution_count": 51,
   "id": "37bc99ba",
   "metadata": {},
   "outputs": [
    {
     "name": "stdout",
     "output_type": "stream",
     "text": [
      "<class 'pandas.core.frame.DataFrame'>\n",
      "Int64Index: 3299 entries, 0 to 3298\n",
      "Data columns (total 13 columns):\n",
      " #   Column       Non-Null Count  Dtype  \n",
      "---  ------       --------------  -----  \n",
      " 0   id           3299 non-null   int64  \n",
      " 1   Area(total)  3299 non-null   int64  \n",
      " 2   Troom        3299 non-null   float64\n",
      " 3   Nbedrooms    3299 non-null   float64\n",
      " 4   Nbwashrooms  3299 non-null   float64\n",
      " 5   Twashrooms   3299 non-null   float64\n",
      " 6   roof         3299 non-null   object \n",
      " 7   Roof(Area)   3299 non-null   float64\n",
      " 8   Lawn(Area)   3299 non-null   float64\n",
      " 9   Nfloors      3299 non-null   int64  \n",
      " 10  API          3299 non-null   float64\n",
      " 11  ANB          3299 non-null   int64  \n",
      " 12  EXPECTED     3299 non-null   float64\n",
      "dtypes: float64(8), int64(4), object(1)\n",
      "memory usage: 360.8+ KB\n"
     ]
    }
   ],
   "source": [
    "test_data.info()"
   ]
  },
  {
   "cell_type": "code",
   "execution_count": 52,
   "id": "0e6ccc4a",
   "metadata": {},
   "outputs": [
    {
     "data": {
      "image/png": "[encoded data removed]",
      "text/plain": [
       "<Figure size 640x480 with 1 Axes>"
      ]
     },
     "metadata": {},
     "output_type": "display_data"
    }
   ],
   "source": [
    "sns.barplot(x='Area(total)', y='Grade', data=train_data,order=['A', 'B', 'C', 'D', 'E'])\n",
    "\n",
    "plt.title('Relationship between House Area and Grade')\n",
    "plt.xlabel('Area of the House')\n",
    "plt.ylabel('Grade of the House')\n",
    "plt.show()"
   ]
  },
  {
   "cell_type": "code",
   "execution_count": 53,
   "id": "a4be5ea1",
   "metadata": {},
   "outputs": [
    {
     "name": "stderr",
     "output_type": "stream",
     "text": [
      "C:\\Users\\Admin\\Anaconda3\\lib\\site-packages\\seaborn\\_decorators.py:36: FutureWarning: Pass the following variable as a keyword arg: x. From version 0.12, the only valid positional argument will be `data`, and passing other arguments without an explicit keyword will result in an error or misinterpretation.\n",
      "  warnings.warn(\n"
     ]
    },
    {
     "data": {
      "image/png": "[encoded data removed]",
      "text/plain": [
       "<Figure size 1000x700 with 1 Axes>"
      ]
     },
     "metadata": {},
     "output_type": "display_data"
    }
   ],
   "source": [
    "plt.figure(figsize=(10,7))\n",
    "sns.countplot(train_data['Grade'],palette='winter',order=['A', 'B', 'C', 'D', 'E'])\n",
    "plt.title('Availability of Houses per Grade',fontsize=20)\n",
    "plt.show()"
   ]
  },
  {
   "cell_type": "markdown",
   "id": "a7295c27",
   "metadata": {},
   "source": [
    "###### interpretation:\n",
    "\n",
    "Availability of C grade houses are more compared to the other grades.\n",
    "Availability of E grade houses are the least."
   ]
  },
  {
   "cell_type": "code",
   "execution_count": 54,
   "id": "2fccc597",
   "metadata": {},
   "outputs": [
    {
     "data": {
      "image/png": "[encoded data removed]",
      "text/plain": [
       "<Figure size 640x480 with 1 Axes>"
      ]
     },
     "metadata": {},
     "output_type": "display_data"
    }
   ],
   "source": [
    "sns.boxplot(x='Area(total)', y='Grade', data=train_data,order=['A', 'B', 'C', 'D', 'E'])\n",
    "\n",
    "plt.title('Relationship between House Area and Grade')\n",
    "plt.xlabel('Area of the House')\n",
    "plt.ylabel('Grade of the House')\n",
    "plt.show()"
   ]
  },
  {
   "cell_type": "code",
   "execution_count": 55,
   "id": "ed2e1911",
   "metadata": {},
   "outputs": [
    {
     "name": "stderr",
     "output_type": "stream",
     "text": [
      "C:\\Users\\Admin\\Anaconda3\\lib\\site-packages\\seaborn\\_decorators.py:36: FutureWarning: Pass the following variable as a keyword arg: x. From version 0.12, the only valid positional argument will be `data`, and passing other arguments without an explicit keyword will result in an error or misinterpretation.\n",
      "  warnings.warn(\n"
     ]
    },
    {
     "data": {
      "image/png": "[encoded data removed]",
      "text/plain": [
       "<Figure size 1000x700 with 1 Axes>"
      ]
     },
     "metadata": {},
     "output_type": "display_data"
    }
   ],
   "source": [
    "plt.figure(figsize=(10,7))\n",
    "sns.countplot(train_data['Grade'],hue=train_data['roof'],palette='winter')\n",
    "plt.title('Availability of Houses with roof',fontsize=20)\n",
    "plt.show()"
   ]
  },
  {
   "cell_type": "markdown",
   "id": "371800f5",
   "metadata": {},
   "source": [
    "###### Interpretation:\n",
    "\n",
    "Grade c has more no. of houses with roof compared to other grades eventhough houses with no roof is higher in that grade.\n",
    "Least houses with roof are in grade E."
   ]
  },
  {
   "cell_type": "code",
   "execution_count": 56,
   "id": "1f0e036e",
   "metadata": {},
   "outputs": [
    {
     "data": {
      "image/png": "[encoded data removed]",
      "text/plain": [
       "<Figure size 640x480 with 1 Axes>"
      ]
     },
     "metadata": {},
     "output_type": "display_data"
    }
   ],
   "source": [
    "sns.boxplot(x='Troom', y='Grade', data=train_data,order=['A', 'B', 'C', 'D', 'E'])\n",
    "\n",
    "plt.title('Relationship between Total Rooms and Grade')\n",
    "plt.xlabel('Total no. of rooms in the House')\n",
    "plt.ylabel('Grade of the House')\n",
    "plt.show()"
   ]
  },
  {
   "cell_type": "code",
   "execution_count": 57,
   "id": "e5aabd86",
   "metadata": {},
   "outputs": [
    {
     "data": {
      "image/png": "[encoded data removed]",
      "text/plain": [
       "<Figure size 1000x700 with 1 Axes>"
      ]
     },
     "metadata": {},
     "output_type": "display_data"
    }
   ],
   "source": [
    "plt.figure(figsize=(10,7))\n",
    "sns.barplot(x=train_df['Grade'],y=train_data['Troom'],ci=None,palette='winter')\n",
    "plt.title('Average Room Availability per Grade',fontsize=20)\n",
    "plt.show()"
   ]
  },
  {
   "cell_type": "markdown",
   "id": "452664c5",
   "metadata": {},
   "source": [
    "###### Interpretation: Average availability of rooms in A grade houses are more and E grade houses are less compared to other grades."
   ]
  },
  {
   "cell_type": "code",
   "execution_count": 58,
   "id": "e3afe572",
   "metadata": {},
   "outputs": [
    {
     "data": {
      "image/png": "[encoded data removed]",
      "text/plain": [
       "<Figure size 640x480 with 1 Axes>"
      ]
     },
     "metadata": {},
     "output_type": "display_data"
    }
   ],
   "source": [
    "sns.barplot(x='Troom', y='Grade', data=train_data,order=['A', 'B', 'C', 'D', 'E'])\n",
    "\n",
    "plt.title('Relationship between Total Rooms and Grade')\n",
    "plt.xlabel('Total no. of rooms in the House')\n",
    "plt.ylabel('Grade of the House')\n",
    "plt.show()"
   ]
  },
  {
   "cell_type": "code",
   "execution_count": 59,
   "id": "5dd6490d",
   "metadata": {},
   "outputs": [
    {
     "name": "stderr",
     "output_type": "stream",
     "text": [
      "C:\\Users\\Admin\\Anaconda3\\lib\\site-packages\\seaborn\\_decorators.py:36: FutureWarning: Pass the following variable as a keyword arg: x. From version 0.12, the only valid positional argument will be `data`, and passing other arguments without an explicit keyword will result in an error or misinterpretation.\n",
      "  warnings.warn(\n"
     ]
    },
    {
     "data": {
      "image/png": "[encoded data removed]",
      "text/plain": [
       "<Figure size 640x480 with 1 Axes>"
      ]
     },
     "metadata": {},
     "output_type": "display_data"
    }
   ],
   "source": [
    "sns.boxplot(train_data['Area(total)'])\n",
    "plt.title('Area Distribution',fontsize=15)\n",
    "plt.show()"
   ]
  },
  {
   "cell_type": "markdown",
   "id": "9162d04c",
   "metadata": {},
   "source": [
    "###### Interpretation: Most houses are of area between 310 to 340."
   ]
  },
  {
   "cell_type": "code",
   "execution_count": 60,
   "id": "5be15555",
   "metadata": {},
   "outputs": [
    {
     "data": {
      "image/png": "[encoded data removed]",
      "text/plain": [
       "<Figure size 640x480 with 1 Axes>"
      ]
     },
     "metadata": {},
     "output_type": "display_data"
    }
   ],
   "source": [
    "sns.countplot(x='roof', hue='Grade', data=train_data, palette='muted')\n",
    "\n",
    "plt.title('Relationship between Roof Presence and Grade')\n",
    "plt.xlabel('Roof Presence')\n",
    "plt.ylabel('Count')\n",
    "plt.show()"
   ]
  },
  {
   "cell_type": "code",
   "execution_count": 61,
   "id": "0fac7201",
   "metadata": {},
   "outputs": [
    {
     "name": "stderr",
     "output_type": "stream",
     "text": [
      "C:\\Users\\Admin\\Anaconda3\\lib\\site-packages\\seaborn\\_decorators.py:36: FutureWarning: Pass the following variable as a keyword arg: x. From version 0.12, the only valid positional argument will be `data`, and passing other arguments without an explicit keyword will result in an error or misinterpretation.\n",
      "  warnings.warn(\n"
     ]
    },
    {
     "data": {
      "image/png": "[encoded data removed]",
      "text/plain": [
       "<Figure size 640x480 with 1 Axes>"
      ]
     },
     "metadata": {},
     "output_type": "display_data"
    }
   ],
   "source": [
    "sns.boxplot(train_data['EXPECTED'])\n",
    "plt.title('Distribution of Expected Price',fontsize=15)\n",
    "plt.show()"
   ]
  },
  {
   "cell_type": "markdown",
   "id": "3d5a1a1d",
   "metadata": {},
   "source": [
    "###### nterpretation: Most houses are of priced between 3600 to 4400., and there are some extreme values too"
   ]
  },
  {
   "cell_type": "code",
   "execution_count": 62,
   "id": "dcf32dda",
   "metadata": {},
   "outputs": [
    {
     "data": {
      "image/png": "[encoded data removed]",
      "text/plain": [
       "<Figure size 640x480 with 1 Axes>"
      ]
     },
     "metadata": {},
     "output_type": "display_data"
    }
   ],
   "source": [
    "sns.boxplot(x='Roof(Area)', y='Grade', data=train_data[train_data['Roof(Area)']!=0.0],order=['A', 'B', 'C', 'D', 'E'])\n",
    "\n",
    "plt.title('Relationship between Size of the Roof and Grade')\n",
    "plt.xlabel('Area of the Roof')\n",
    "plt.ylabel('Grade of the House')\n",
    "plt.show()\n"
   ]
  },
  {
   "cell_type": "code",
   "execution_count": 63,
   "id": "de697e81",
   "metadata": {},
   "outputs": [
    {
     "data": {
      "image/png": "[encoded data removed]",
      "text/plain": [
       "<Figure size 640x480 with 1 Axes>"
      ]
     },
     "metadata": {},
     "output_type": "display_data"
    }
   ],
   "source": [
    "sns.boxplot(x='Lawn(Area)', y='Grade', data=train_data,order=['A', 'B', 'C', 'D', 'E'])\n",
    "\n",
    "plt.title('Relationship between Size of the Lawn and Grade')\n",
    "plt.xlabel('Area of the Lawn')\n",
    "plt.ylabel('Grade of the House')\n",
    "plt.show()"
   ]
  },
  {
   "cell_type": "code",
   "execution_count": 64,
   "id": "38034890",
   "metadata": {},
   "outputs": [
    {
     "data": {
      "image/png": "[encoded data removed]",
      "text/plain": [
       "<Figure size 640x480 with 1 Axes>"
      ]
     },
     "metadata": {},
     "output_type": "display_data"
    }
   ],
   "source": [
    "sns.barplot(x='Nfloors', y='Grade', data=train_data,order=['A', 'B', 'C', 'D', 'E'])\n",
    "\n",
    "plt.title('Relationship between No. of floors and Grade')\n",
    "plt.xlabel('No. of floors in the House')\n",
    "plt.ylabel('Grade of the House')\n",
    "plt.show()"
   ]
  },
  {
   "cell_type": "code",
   "execution_count": 65,
   "id": "eeea0473",
   "metadata": {},
   "outputs": [
    {
     "data": {
      "image/png": "[encoded data removed]",
      "text/plain": [
       "<Figure size 640x480 with 1 Axes>"
      ]
     },
     "metadata": {},
     "output_type": "display_data"
    }
   ],
   "source": [
    "sns.boxplot(x='Nfloors', y='Grade', data=train_data,order=['A', 'B', 'C', 'D', 'E'])\n",
    "\n",
    "plt.title('Relationship between No. of floors and Grade')\n",
    "plt.xlabel('No. of floors in the House')\n",
    "plt.ylabel('Grade of the House')\n",
    "plt.show()"
   ]
  },
  {
   "cell_type": "code",
   "execution_count": 66,
   "id": "f69d88ef",
   "metadata": {},
   "outputs": [
    {
     "data": {
      "image/png": "[encoded data removed]",
      "text/plain": [
       "<Figure size 640x480 with 1 Axes>"
      ]
     },
     "metadata": {},
     "output_type": "display_data"
    }
   ],
   "source": [
    "sns.barplot(x='API', y='Grade', data=train_data,order=['A', 'B', 'C', 'D', 'E'])\n",
    "\n",
    "plt.title('Relationship between Air Purity and Grade')\n",
    "plt.xlabel('Air Purity Index')\n",
    "plt.ylabel('Grade of the House')\n",
    "plt.show()"
   ]
  },
  {
   "cell_type": "code",
   "execution_count": 67,
   "id": "94dc3a72",
   "metadata": {},
   "outputs": [
    {
     "data": {
      "image/png": "[encoded data removed]",
      "text/plain": [
       "<Figure size 640x480 with 1 Axes>"
      ]
     },
     "metadata": {},
     "output_type": "display_data"
    }
   ],
   "source": [
    "sns.boxplot(x='ANB', y='Grade', data=train_data,order=['A', 'B', 'C', 'D', 'E'])\n",
    "\n",
    "plt.title('Relationship between no. of Amenities close by and Grade')\n",
    "plt.xlabel('No. of amenities close by')\n",
    "plt.ylabel('Grade of the House')\n",
    "plt.show()"
   ]
  },
  {
   "cell_type": "code",
   "execution_count": 68,
   "id": "8cccade0",
   "metadata": {},
   "outputs": [
    {
     "data": {
      "image/png": "[encoded data removed]",
      "text/plain": [
       "<Figure size 640x480 with 1 Axes>"
      ]
     },
     "metadata": {},
     "output_type": "display_data"
    }
   ],
   "source": [
    "sns.boxplot(x='EXPECTED', y='Grade', data=train_data,order=['A', 'B', 'C', 'D', 'E'])\n",
    "\n",
    "plt.title('Relationship between Expected Price and Grade')\n",
    "plt.xlabel('Expected Price')\n",
    "plt.ylabel('Grade of the House')\n",
    "plt.show()"
   ]
  },
  {
   "cell_type": "markdown",
   "id": "87272498",
   "metadata": {},
   "source": [
    "###### HYPOTHESIS TESTING"
   ]
  },
  {
   "cell_type": "markdown",
   "id": "1fd8a0c6",
   "metadata": {},
   "source": [
    "###### T-test Independent"
   ]
  },
  {
   "cell_type": "markdown",
   "id": "7aaba3b0",
   "metadata": {},
   "source": [
    "###### ANNOVA"
   ]
  },
  {
   "cell_type": "code",
   "execution_count": 69,
   "id": "36aec334",
   "metadata": {},
   "outputs": [],
   "source": [
    "from scipy.stats import f_oneway\n"
   ]
  },
  {
   "cell_type": "code",
   "execution_count": 70,
   "id": "a2940bd4",
   "metadata": {},
   "outputs": [
    {
     "data": {
      "text/plain": [
       "Grade\n",
       "A    82.0\n",
       "B    80.0\n",
       "C    79.0\n",
       "D    77.0\n",
       "E    73.0\n",
       "Name: API, dtype: float64"
      ]
     },
     "execution_count": 70,
     "metadata": {},
     "output_type": "execute_result"
    }
   ],
   "source": [
    "np.round(train_data.API.groupby(train_data.Grade).mean(),0)\n"
   ]
  },
  {
   "cell_type": "code",
   "execution_count": 71,
   "id": "8e814a4c",
   "metadata": {},
   "outputs": [],
   "source": [
    "grade_A = train_data[train_data.Grade=='A']\n",
    "grade_B = train_data[train_data.Grade=='B']\n",
    "grade_C = train_data[train_data.Grade=='C']\n",
    "grade_D = train_data[train_data.Grade=='D']\n",
    "grade_E = train_data[train_data.Grade=='E']"
   ]
  },
  {
   "cell_type": "code",
   "execution_count": 72,
   "id": "5235e27a",
   "metadata": {},
   "outputs": [],
   "source": [
    "#Null Hypothesis : There is no significant relationship between API and Grade\n",
    "# Alternative hypothesis : There is significant  relationship between API and Grade\n"
   ]
  },
  {
   "cell_type": "code",
   "execution_count": 73,
   "id": "d9864ac1",
   "metadata": {},
   "outputs": [
    {
     "data": {
      "text/plain": [
       "F_onewayResult(statistic=21.920238783250937, pvalue=5.3094016537447315e-18)"
      ]
     },
     "execution_count": 73,
     "metadata": {},
     "output_type": "execute_result"
    }
   ],
   "source": [
    "f_oneway(grade_A.API,grade_B.API,grade_C.API,grade_D.API,grade_E.API)\n"
   ]
  },
  {
   "cell_type": "code",
   "execution_count": 74,
   "id": "14b17422",
   "metadata": {},
   "outputs": [],
   "source": [
    "#since p value is less than 0.05  reject the null hypothesis"
   ]
  },
  {
   "cell_type": "code",
   "execution_count": 75,
   "id": "ab4f76d5",
   "metadata": {},
   "outputs": [
    {
     "data": {
      "text/plain": [
       "Grade\n",
       "A    8.0\n",
       "B    8.0\n",
       "C    7.0\n",
       "D    6.0\n",
       "E    5.0\n",
       "Name: Troom, dtype: float64"
      ]
     },
     "execution_count": 75,
     "metadata": {},
     "output_type": "execute_result"
    }
   ],
   "source": [
    "np.round(train_data.Troom.groupby(train_data.Grade).mean(),0)"
   ]
  },
  {
   "cell_type": "code",
   "execution_count": 168,
   "id": "c55a0821",
   "metadata": {},
   "outputs": [
    {
     "data": {
      "text/plain": [
       "F_onewayResult(statistic=550.2632073396883, pvalue=0.0)"
      ]
     },
     "execution_count": 168,
     "metadata": {},
     "output_type": "execute_result"
    }
   ],
   "source": [
    "f_oneway(grade_A.Troom,grade_B.Troom,grade_C.Troom,grade_D.Troom,grade_E.Troom)\n"
   ]
  },
  {
   "cell_type": "code",
   "execution_count": 169,
   "id": "9a74843e",
   "metadata": {},
   "outputs": [],
   "source": [
    "#Null Hypothesis : There is no significant relationship between Troom and Grade\n",
    "# Alternative hypothesis : There is significant  relationship between Troom and Grade\n"
   ]
  },
  {
   "cell_type": "code",
   "execution_count": 170,
   "id": "8487a4d4",
   "metadata": {},
   "outputs": [],
   "source": [
    "#since p value is less than 0.05  reject the null hypothesis"
   ]
  },
  {
   "cell_type": "markdown",
   "id": "b0e518f9",
   "metadata": {},
   "source": [
    "###### Chi-Square- Test"
   ]
  },
  {
   "cell_type": "code",
   "execution_count": 171,
   "id": "9e5c7f0b",
   "metadata": {},
   "outputs": [],
   "source": [
    "from scipy.stats import chi2_contingency"
   ]
  },
  {
   "cell_type": "code",
   "execution_count": 172,
   "id": "1819dfba",
   "metadata": {},
   "outputs": [
    {
     "data": {
      "text/plain": [
       "(132.69962302451535,\n",
       " 1.0303371747549007e-27,\n",
       " 4,\n",
       " array([[  15.62971429, 1279.83314286, 1760.14628571,  886.68571429,\n",
       "          265.70514286],\n",
       "        [  10.37028571,  849.16685714, 1167.85371429,  588.31428571,\n",
       "          176.29485714]]))"
      ]
     },
     "execution_count": 172,
     "metadata": {},
     "output_type": "execute_result"
    }
   ],
   "source": [
    "chi2_contingency(pd.crosstab(train_data.roof,train_data.Grade))\n"
   ]
  },
  {
   "cell_type": "code",
   "execution_count": 173,
   "id": "0623ee03",
   "metadata": {},
   "outputs": [],
   "source": [
    "#NULL:there is no association between both the variables \n",
    "# Alt : there is some association between both the variables"
   ]
  },
  {
   "cell_type": "code",
   "execution_count": 174,
   "id": "d43df42b",
   "metadata": {},
   "outputs": [],
   "source": [
    "# since P-values is 1.0303371747549007e-27, which is less than 0.05, we reject the null hypothesis"
   ]
  },
  {
   "cell_type": "code",
   "execution_count": 76,
   "id": "6acd78c1",
   "metadata": {},
   "outputs": [],
   "source": [
    "test_data['Grade']='test'"
   ]
  },
  {
   "cell_type": "code",
   "execution_count": 77,
   "id": "18120e02",
   "metadata": {},
   "outputs": [],
   "source": [
    "combine_data = pd.concat([train_data,test_data],axis=0)"
   ]
  },
  {
   "cell_type": "code",
   "execution_count": 78,
   "id": "c4598b04",
   "metadata": {},
   "outputs": [
    {
     "data": {
      "text/html": [
       "<div>\n",
       "<style scoped>\n",
       "    .dataframe tbody tr th:only-of-type {\n",
       "        vertical-align: middle;\n",
       "    }\n",
       "\n",
       "    .dataframe tbody tr th {\n",
       "        vertical-align: top;\n",
       "    }\n",
       "\n",
       "    .dataframe thead th {\n",
       "        text-align: right;\n",
       "    }\n",
       "</style>\n",
       "<table border=\"1\" class=\"dataframe\">\n",
       "  <thead>\n",
       "    <tr style=\"text-align: right;\">\n",
       "      <th></th>\n",
       "      <th>id</th>\n",
       "      <th>Area(total)</th>\n",
       "      <th>Troom</th>\n",
       "      <th>Nbedrooms</th>\n",
       "      <th>Nbwashrooms</th>\n",
       "      <th>Twashrooms</th>\n",
       "      <th>roof</th>\n",
       "      <th>Roof(Area)</th>\n",
       "      <th>Lawn(Area)</th>\n",
       "      <th>Nfloors</th>\n",
       "      <th>API</th>\n",
       "      <th>ANB</th>\n",
       "      <th>Grade</th>\n",
       "      <th>EXPECTED</th>\n",
       "    </tr>\n",
       "  </thead>\n",
       "  <tbody>\n",
       "    <tr>\n",
       "      <th>0</th>\n",
       "      <td>1</td>\n",
       "      <td>305</td>\n",
       "      <td>8.0</td>\n",
       "      <td>2.0</td>\n",
       "      <td>1.0</td>\n",
       "      <td>3.0</td>\n",
       "      <td>No</td>\n",
       "      <td>0.000000</td>\n",
       "      <td>76.0</td>\n",
       "      <td>2</td>\n",
       "      <td>63.0</td>\n",
       "      <td>4</td>\n",
       "      <td>D</td>\n",
       "      <td>3826.0</td>\n",
       "    </tr>\n",
       "    <tr>\n",
       "      <th>1</th>\n",
       "      <td>2</td>\n",
       "      <td>344</td>\n",
       "      <td>6.0</td>\n",
       "      <td>7.0</td>\n",
       "      <td>7.0</td>\n",
       "      <td>8.0</td>\n",
       "      <td>No</td>\n",
       "      <td>0.000000</td>\n",
       "      <td>83.0</td>\n",
       "      <td>7</td>\n",
       "      <td>97.0</td>\n",
       "      <td>1</td>\n",
       "      <td>B</td>\n",
       "      <td>4458.0</td>\n",
       "    </tr>\n",
       "    <tr>\n",
       "      <th>2</th>\n",
       "      <td>3</td>\n",
       "      <td>294</td>\n",
       "      <td>8.0</td>\n",
       "      <td>4.0</td>\n",
       "      <td>3.0</td>\n",
       "      <td>4.0</td>\n",
       "      <td>Yes</td>\n",
       "      <td>97.000000</td>\n",
       "      <td>78.0</td>\n",
       "      <td>1</td>\n",
       "      <td>88.0</td>\n",
       "      <td>4</td>\n",
       "      <td>C</td>\n",
       "      <td>4199.0</td>\n",
       "    </tr>\n",
       "    <tr>\n",
       "      <th>3</th>\n",
       "      <td>4</td>\n",
       "      <td>328</td>\n",
       "      <td>5.0</td>\n",
       "      <td>4.0</td>\n",
       "      <td>2.0</td>\n",
       "      <td>4.0</td>\n",
       "      <td>No</td>\n",
       "      <td>0.000000</td>\n",
       "      <td>91.0</td>\n",
       "      <td>5</td>\n",
       "      <td>86.0</td>\n",
       "      <td>1</td>\n",
       "      <td>D</td>\n",
       "      <td>3462.0</td>\n",
       "    </tr>\n",
       "    <tr>\n",
       "      <th>4</th>\n",
       "      <td>5</td>\n",
       "      <td>295</td>\n",
       "      <td>9.0</td>\n",
       "      <td>5.0</td>\n",
       "      <td>3.0</td>\n",
       "      <td>5.0</td>\n",
       "      <td>Not known</td>\n",
       "      <td>47.223321</td>\n",
       "      <td>97.0</td>\n",
       "      <td>4</td>\n",
       "      <td>93.0</td>\n",
       "      <td>3</td>\n",
       "      <td>C</td>\n",
       "      <td>4543.0</td>\n",
       "    </tr>\n",
       "  </tbody>\n",
       "</table>\n",
       "</div>"
      ],
      "text/plain": [
       "   id  Area(total)  Troom  Nbedrooms  Nbwashrooms  Twashrooms       roof  \\\n",
       "0   1          305    8.0        2.0          1.0         3.0         No   \n",
       "1   2          344    6.0        7.0          7.0         8.0         No   \n",
       "2   3          294    8.0        4.0          3.0         4.0        Yes   \n",
       "3   4          328    5.0        4.0          2.0         4.0         No   \n",
       "4   5          295    9.0        5.0          3.0         5.0  Not known   \n",
       "\n",
       "   Roof(Area)  Lawn(Area)  Nfloors   API  ANB Grade  EXPECTED  \n",
       "0    0.000000        76.0        2  63.0    4     D    3826.0  \n",
       "1    0.000000        83.0        7  97.0    1     B    4458.0  \n",
       "2   97.000000        78.0        1  88.0    4     C    4199.0  \n",
       "3    0.000000        91.0        5  86.0    1     D    3462.0  \n",
       "4   47.223321        97.0        4  93.0    3     C    4543.0  "
      ]
     },
     "execution_count": 78,
     "metadata": {},
     "output_type": "execute_result"
    }
   ],
   "source": [
    "combine_data.head()"
   ]
  },
  {
   "cell_type": "code",
   "execution_count": 79,
   "id": "f43e0c0d",
   "metadata": {},
   "outputs": [],
   "source": [
    "from sklearn.preprocessing import StandardScaler"
   ]
  },
  {
   "cell_type": "code",
   "execution_count": 80,
   "id": "69b4f205",
   "metadata": {},
   "outputs": [],
   "source": [
    "continuous_columns = ['Area(total)','Roof(Area)','Lawn(Area)','API','EXPECTED']"
   ]
  },
  {
   "cell_type": "code",
   "execution_count": 81,
   "id": "59e36624",
   "metadata": {},
   "outputs": [],
   "source": [
    "scaler = StandardScaler()\n",
    "combine_data[continuous_columns] = scaler.fit_transform(combine_data[continuous_columns])\n"
   ]
  },
  {
   "cell_type": "code",
   "execution_count": 82,
   "id": "1abb2209",
   "metadata": {},
   "outputs": [
    {
     "data": {
      "text/html": [
       "<div>\n",
       "<style scoped>\n",
       "    .dataframe tbody tr th:only-of-type {\n",
       "        vertical-align: middle;\n",
       "    }\n",
       "\n",
       "    .dataframe tbody tr th {\n",
       "        vertical-align: top;\n",
       "    }\n",
       "\n",
       "    .dataframe thead th {\n",
       "        text-align: right;\n",
       "    }\n",
       "</style>\n",
       "<table border=\"1\" class=\"dataframe\">\n",
       "  <thead>\n",
       "    <tr style=\"text-align: right;\">\n",
       "      <th></th>\n",
       "      <th>id</th>\n",
       "      <th>Area(total)</th>\n",
       "      <th>Troom</th>\n",
       "      <th>Nbedrooms</th>\n",
       "      <th>Nbwashrooms</th>\n",
       "      <th>Twashrooms</th>\n",
       "      <th>roof</th>\n",
       "      <th>Roof(Area)</th>\n",
       "      <th>Lawn(Area)</th>\n",
       "      <th>Nfloors</th>\n",
       "      <th>API</th>\n",
       "      <th>ANB</th>\n",
       "      <th>Grade</th>\n",
       "      <th>EXPECTED</th>\n",
       "    </tr>\n",
       "  </thead>\n",
       "  <tbody>\n",
       "    <tr>\n",
       "      <th>0</th>\n",
       "      <td>1</td>\n",
       "      <td>-0.976671</td>\n",
       "      <td>8.0</td>\n",
       "      <td>2.0</td>\n",
       "      <td>1.0</td>\n",
       "      <td>3.0</td>\n",
       "      <td>No</td>\n",
       "      <td>-1.077416</td>\n",
       "      <td>-1.185348</td>\n",
       "      <td>2</td>\n",
       "      <td>-1.354073</td>\n",
       "      <td>4</td>\n",
       "      <td>D</td>\n",
       "      <td>-0.419853</td>\n",
       "    </tr>\n",
       "    <tr>\n",
       "      <th>1</th>\n",
       "      <td>2</td>\n",
       "      <td>0.927560</td>\n",
       "      <td>6.0</td>\n",
       "      <td>7.0</td>\n",
       "      <td>7.0</td>\n",
       "      <td>8.0</td>\n",
       "      <td>No</td>\n",
       "      <td>-1.077416</td>\n",
       "      <td>-0.593229</td>\n",
       "      <td>7</td>\n",
       "      <td>1.518119</td>\n",
       "      <td>1</td>\n",
       "      <td>B</td>\n",
       "      <td>0.861792</td>\n",
       "    </tr>\n",
       "    <tr>\n",
       "      <th>2</th>\n",
       "      <td>3</td>\n",
       "      <td>-1.513762</td>\n",
       "      <td>8.0</td>\n",
       "      <td>4.0</td>\n",
       "      <td>3.0</td>\n",
       "      <td>4.0</td>\n",
       "      <td>Yes</td>\n",
       "      <td>1.135672</td>\n",
       "      <td>-1.016171</td>\n",
       "      <td>1</td>\n",
       "      <td>0.757833</td>\n",
       "      <td>4</td>\n",
       "      <td>C</td>\n",
       "      <td>0.336561</td>\n",
       "    </tr>\n",
       "    <tr>\n",
       "      <th>3</th>\n",
       "      <td>4</td>\n",
       "      <td>0.146337</td>\n",
       "      <td>5.0</td>\n",
       "      <td>4.0</td>\n",
       "      <td>2.0</td>\n",
       "      <td>4.0</td>\n",
       "      <td>No</td>\n",
       "      <td>-1.077416</td>\n",
       "      <td>0.083479</td>\n",
       "      <td>5</td>\n",
       "      <td>0.588881</td>\n",
       "      <td>1</td>\n",
       "      <td>D</td>\n",
       "      <td>-1.158016</td>\n",
       "    </tr>\n",
       "    <tr>\n",
       "      <th>4</th>\n",
       "      <td>5</td>\n",
       "      <td>-1.464936</td>\n",
       "      <td>9.0</td>\n",
       "      <td>5.0</td>\n",
       "      <td>3.0</td>\n",
       "      <td>5.0</td>\n",
       "      <td>Not known</td>\n",
       "      <td>0.000000</td>\n",
       "      <td>0.591011</td>\n",
       "      <td>4</td>\n",
       "      <td>1.180214</td>\n",
       "      <td>3</td>\n",
       "      <td>C</td>\n",
       "      <td>1.034165</td>\n",
       "    </tr>\n",
       "  </tbody>\n",
       "</table>\n",
       "</div>"
      ],
      "text/plain": [
       "   id  Area(total)  Troom  Nbedrooms  Nbwashrooms  Twashrooms       roof  \\\n",
       "0   1    -0.976671    8.0        2.0          1.0         3.0         No   \n",
       "1   2     0.927560    6.0        7.0          7.0         8.0         No   \n",
       "2   3    -1.513762    8.0        4.0          3.0         4.0        Yes   \n",
       "3   4     0.146337    5.0        4.0          2.0         4.0         No   \n",
       "4   5    -1.464936    9.0        5.0          3.0         5.0  Not known   \n",
       "\n",
       "   Roof(Area)  Lawn(Area)  Nfloors       API  ANB Grade  EXPECTED  \n",
       "0   -1.077416   -1.185348        2 -1.354073    4     D -0.419853  \n",
       "1   -1.077416   -0.593229        7  1.518119    1     B  0.861792  \n",
       "2    1.135672   -1.016171        1  0.757833    4     C  0.336561  \n",
       "3   -1.077416    0.083479        5  0.588881    1     D -1.158016  \n",
       "4    0.000000    0.591011        4  1.180214    3     C  1.034165  "
      ]
     },
     "execution_count": 82,
     "metadata": {},
     "output_type": "execute_result"
    }
   ],
   "source": [
    "combine_data.head()"
   ]
  },
  {
   "cell_type": "code",
   "execution_count": 83,
   "id": "332a81e0",
   "metadata": {},
   "outputs": [],
   "source": [
    "replacement_dict = {'No':0,'Yes':1}\n",
    "combine_data['roof'] = combine_data['roof'].replace(replacement_dict)"
   ]
  },
  {
   "cell_type": "code",
   "execution_count": 84,
   "id": "11d5a1f2",
   "metadata": {},
   "outputs": [],
   "source": [
    "combine_data['roof_unknown'] = (combine_data['roof'] == 'not known').astype(int)"
   ]
  },
  {
   "cell_type": "code",
   "execution_count": 85,
   "id": "31ddca88",
   "metadata": {},
   "outputs": [],
   "source": [
    "combine_data['roof'] = combine_data['roof'].replace('Not known',0)"
   ]
  },
  {
   "cell_type": "code",
   "execution_count": 86,
   "id": "6e55107c",
   "metadata": {},
   "outputs": [
    {
     "data": {
      "text/html": [
       "<div>\n",
       "<style scoped>\n",
       "    .dataframe tbody tr th:only-of-type {\n",
       "        vertical-align: middle;\n",
       "    }\n",
       "\n",
       "    .dataframe tbody tr th {\n",
       "        vertical-align: top;\n",
       "    }\n",
       "\n",
       "    .dataframe thead th {\n",
       "        text-align: right;\n",
       "    }\n",
       "</style>\n",
       "<table border=\"1\" class=\"dataframe\">\n",
       "  <thead>\n",
       "    <tr style=\"text-align: right;\">\n",
       "      <th></th>\n",
       "      <th>id</th>\n",
       "      <th>Area(total)</th>\n",
       "      <th>Troom</th>\n",
       "      <th>Nbedrooms</th>\n",
       "      <th>Nbwashrooms</th>\n",
       "      <th>Twashrooms</th>\n",
       "      <th>roof</th>\n",
       "      <th>Roof(Area)</th>\n",
       "      <th>Lawn(Area)</th>\n",
       "      <th>Nfloors</th>\n",
       "      <th>API</th>\n",
       "      <th>ANB</th>\n",
       "      <th>Grade</th>\n",
       "      <th>EXPECTED</th>\n",
       "      <th>roof_unknown</th>\n",
       "    </tr>\n",
       "  </thead>\n",
       "  <tbody>\n",
       "    <tr>\n",
       "      <th>0</th>\n",
       "      <td>1</td>\n",
       "      <td>-0.976671</td>\n",
       "      <td>8.0</td>\n",
       "      <td>2.0</td>\n",
       "      <td>1.0</td>\n",
       "      <td>3.0</td>\n",
       "      <td>0</td>\n",
       "      <td>-1.077416</td>\n",
       "      <td>-1.185348</td>\n",
       "      <td>2</td>\n",
       "      <td>-1.354073</td>\n",
       "      <td>4</td>\n",
       "      <td>D</td>\n",
       "      <td>-0.419853</td>\n",
       "      <td>0</td>\n",
       "    </tr>\n",
       "    <tr>\n",
       "      <th>1</th>\n",
       "      <td>2</td>\n",
       "      <td>0.927560</td>\n",
       "      <td>6.0</td>\n",
       "      <td>7.0</td>\n",
       "      <td>7.0</td>\n",
       "      <td>8.0</td>\n",
       "      <td>0</td>\n",
       "      <td>-1.077416</td>\n",
       "      <td>-0.593229</td>\n",
       "      <td>7</td>\n",
       "      <td>1.518119</td>\n",
       "      <td>1</td>\n",
       "      <td>B</td>\n",
       "      <td>0.861792</td>\n",
       "      <td>0</td>\n",
       "    </tr>\n",
       "    <tr>\n",
       "      <th>2</th>\n",
       "      <td>3</td>\n",
       "      <td>-1.513762</td>\n",
       "      <td>8.0</td>\n",
       "      <td>4.0</td>\n",
       "      <td>3.0</td>\n",
       "      <td>4.0</td>\n",
       "      <td>1</td>\n",
       "      <td>1.135672</td>\n",
       "      <td>-1.016171</td>\n",
       "      <td>1</td>\n",
       "      <td>0.757833</td>\n",
       "      <td>4</td>\n",
       "      <td>C</td>\n",
       "      <td>0.336561</td>\n",
       "      <td>0</td>\n",
       "    </tr>\n",
       "    <tr>\n",
       "      <th>3</th>\n",
       "      <td>4</td>\n",
       "      <td>0.146337</td>\n",
       "      <td>5.0</td>\n",
       "      <td>4.0</td>\n",
       "      <td>2.0</td>\n",
       "      <td>4.0</td>\n",
       "      <td>0</td>\n",
       "      <td>-1.077416</td>\n",
       "      <td>0.083479</td>\n",
       "      <td>5</td>\n",
       "      <td>0.588881</td>\n",
       "      <td>1</td>\n",
       "      <td>D</td>\n",
       "      <td>-1.158016</td>\n",
       "      <td>0</td>\n",
       "    </tr>\n",
       "    <tr>\n",
       "      <th>4</th>\n",
       "      <td>5</td>\n",
       "      <td>-1.464936</td>\n",
       "      <td>9.0</td>\n",
       "      <td>5.0</td>\n",
       "      <td>3.0</td>\n",
       "      <td>5.0</td>\n",
       "      <td>0</td>\n",
       "      <td>0.000000</td>\n",
       "      <td>0.591011</td>\n",
       "      <td>4</td>\n",
       "      <td>1.180214</td>\n",
       "      <td>3</td>\n",
       "      <td>C</td>\n",
       "      <td>1.034165</td>\n",
       "      <td>0</td>\n",
       "    </tr>\n",
       "  </tbody>\n",
       "</table>\n",
       "</div>"
      ],
      "text/plain": [
       "   id  Area(total)  Troom  Nbedrooms  Nbwashrooms  Twashrooms  roof  \\\n",
       "0   1    -0.976671    8.0        2.0          1.0         3.0     0   \n",
       "1   2     0.927560    6.0        7.0          7.0         8.0     0   \n",
       "2   3    -1.513762    8.0        4.0          3.0         4.0     1   \n",
       "3   4     0.146337    5.0        4.0          2.0         4.0     0   \n",
       "4   5    -1.464936    9.0        5.0          3.0         5.0     0   \n",
       "\n",
       "   Roof(Area)  Lawn(Area)  Nfloors       API  ANB Grade  EXPECTED  \\\n",
       "0   -1.077416   -1.185348        2 -1.354073    4     D -0.419853   \n",
       "1   -1.077416   -0.593229        7  1.518119    1     B  0.861792   \n",
       "2    1.135672   -1.016171        1  0.757833    4     C  0.336561   \n",
       "3   -1.077416    0.083479        5  0.588881    1     D -1.158016   \n",
       "4    0.000000    0.591011        4  1.180214    3     C  1.034165   \n",
       "\n",
       "   roof_unknown  \n",
       "0             0  \n",
       "1             0  \n",
       "2             0  \n",
       "3             0  \n",
       "4             0  "
      ]
     },
     "execution_count": 86,
     "metadata": {},
     "output_type": "execute_result"
    }
   ],
   "source": [
    "combine_data.head()"
   ]
  },
  {
   "cell_type": "code",
   "execution_count": 87,
   "id": "626324e3",
   "metadata": {},
   "outputs": [],
   "source": [
    "replacement_dict = {'A': 5, 'B': 4, 'C': 3, 'D': 2, 'E': 1}\n",
    "combine_data['Grade'] = combine_data['Grade'].replace(replacement_dict)"
   ]
  },
  {
   "cell_type": "code",
   "execution_count": 88,
   "id": "0230ed3b",
   "metadata": {},
   "outputs": [],
   "source": [
    "combine_data.drop('id',axis=1,inplace=True)"
   ]
  },
  {
   "cell_type": "code",
   "execution_count": 89,
   "id": "4cfc671a",
   "metadata": {},
   "outputs": [],
   "source": [
    "train_data=combine_data[combine_data.Grade!='test']\n",
    "test_data=(combine_data[combine_data.Grade=='test']).drop('Grade',axis=1)"
   ]
  },
  {
   "cell_type": "code",
   "execution_count": 90,
   "id": "3ad0dc07",
   "metadata": {},
   "outputs": [
    {
     "data": {
      "text/html": [
       "<div>\n",
       "<style scoped>\n",
       "    .dataframe tbody tr th:only-of-type {\n",
       "        vertical-align: middle;\n",
       "    }\n",
       "\n",
       "    .dataframe tbody tr th {\n",
       "        vertical-align: top;\n",
       "    }\n",
       "\n",
       "    .dataframe thead th {\n",
       "        text-align: right;\n",
       "    }\n",
       "</style>\n",
       "<table border=\"1\" class=\"dataframe\">\n",
       "  <thead>\n",
       "    <tr style=\"text-align: right;\">\n",
       "      <th></th>\n",
       "      <th>Area(total)</th>\n",
       "      <th>Troom</th>\n",
       "      <th>Nbedrooms</th>\n",
       "      <th>Nbwashrooms</th>\n",
       "      <th>Twashrooms</th>\n",
       "      <th>roof</th>\n",
       "      <th>Roof(Area)</th>\n",
       "      <th>Lawn(Area)</th>\n",
       "      <th>Nfloors</th>\n",
       "      <th>API</th>\n",
       "      <th>ANB</th>\n",
       "      <th>Grade</th>\n",
       "      <th>EXPECTED</th>\n",
       "      <th>roof_unknown</th>\n",
       "    </tr>\n",
       "  </thead>\n",
       "  <tbody>\n",
       "    <tr>\n",
       "      <th>0</th>\n",
       "      <td>-0.976671</td>\n",
       "      <td>8.0</td>\n",
       "      <td>2.0</td>\n",
       "      <td>1.0</td>\n",
       "      <td>3.0</td>\n",
       "      <td>0</td>\n",
       "      <td>-1.077416</td>\n",
       "      <td>-1.185348</td>\n",
       "      <td>2</td>\n",
       "      <td>-1.354073</td>\n",
       "      <td>4</td>\n",
       "      <td>2</td>\n",
       "      <td>-0.419853</td>\n",
       "      <td>0</td>\n",
       "    </tr>\n",
       "    <tr>\n",
       "      <th>1</th>\n",
       "      <td>0.927560</td>\n",
       "      <td>6.0</td>\n",
       "      <td>7.0</td>\n",
       "      <td>7.0</td>\n",
       "      <td>8.0</td>\n",
       "      <td>0</td>\n",
       "      <td>-1.077416</td>\n",
       "      <td>-0.593229</td>\n",
       "      <td>7</td>\n",
       "      <td>1.518119</td>\n",
       "      <td>1</td>\n",
       "      <td>4</td>\n",
       "      <td>0.861792</td>\n",
       "      <td>0</td>\n",
       "    </tr>\n",
       "    <tr>\n",
       "      <th>2</th>\n",
       "      <td>-1.513762</td>\n",
       "      <td>8.0</td>\n",
       "      <td>4.0</td>\n",
       "      <td>3.0</td>\n",
       "      <td>4.0</td>\n",
       "      <td>1</td>\n",
       "      <td>1.135672</td>\n",
       "      <td>-1.016171</td>\n",
       "      <td>1</td>\n",
       "      <td>0.757833</td>\n",
       "      <td>4</td>\n",
       "      <td>3</td>\n",
       "      <td>0.336561</td>\n",
       "      <td>0</td>\n",
       "    </tr>\n",
       "    <tr>\n",
       "      <th>3</th>\n",
       "      <td>0.146337</td>\n",
       "      <td>5.0</td>\n",
       "      <td>4.0</td>\n",
       "      <td>2.0</td>\n",
       "      <td>4.0</td>\n",
       "      <td>0</td>\n",
       "      <td>-1.077416</td>\n",
       "      <td>0.083479</td>\n",
       "      <td>5</td>\n",
       "      <td>0.588881</td>\n",
       "      <td>1</td>\n",
       "      <td>2</td>\n",
       "      <td>-1.158016</td>\n",
       "      <td>0</td>\n",
       "    </tr>\n",
       "    <tr>\n",
       "      <th>4</th>\n",
       "      <td>-1.464936</td>\n",
       "      <td>9.0</td>\n",
       "      <td>5.0</td>\n",
       "      <td>3.0</td>\n",
       "      <td>5.0</td>\n",
       "      <td>0</td>\n",
       "      <td>0.000000</td>\n",
       "      <td>0.591011</td>\n",
       "      <td>4</td>\n",
       "      <td>1.180214</td>\n",
       "      <td>3</td>\n",
       "      <td>3</td>\n",
       "      <td>1.034165</td>\n",
       "      <td>0</td>\n",
       "    </tr>\n",
       "  </tbody>\n",
       "</table>\n",
       "</div>"
      ],
      "text/plain": [
       "   Area(total)  Troom  Nbedrooms  Nbwashrooms  Twashrooms  roof  Roof(Area)  \\\n",
       "0    -0.976671    8.0        2.0          1.0         3.0     0   -1.077416   \n",
       "1     0.927560    6.0        7.0          7.0         8.0     0   -1.077416   \n",
       "2    -1.513762    8.0        4.0          3.0         4.0     1    1.135672   \n",
       "3     0.146337    5.0        4.0          2.0         4.0     0   -1.077416   \n",
       "4    -1.464936    9.0        5.0          3.0         5.0     0    0.000000   \n",
       "\n",
       "   Lawn(Area)  Nfloors       API  ANB Grade  EXPECTED  roof_unknown  \n",
       "0   -1.185348        2 -1.354073    4     2 -0.419853             0  \n",
       "1   -0.593229        7  1.518119    1     4  0.861792             0  \n",
       "2   -1.016171        1  0.757833    4     3  0.336561             0  \n",
       "3    0.083479        5  0.588881    1     2 -1.158016             0  \n",
       "4    0.591011        4  1.180214    3     3  1.034165             0  "
      ]
     },
     "execution_count": 90,
     "metadata": {},
     "output_type": "execute_result"
    }
   ],
   "source": [
    "train_data.head()"
   ]
  },
  {
   "cell_type": "code",
   "execution_count": 91,
   "id": "67da6aa1",
   "metadata": {},
   "outputs": [],
   "source": [
    "from sklearn.model_selection import train_test_split"
   ]
  },
  {
   "cell_type": "code",
   "execution_count": 92,
   "id": "ab7a98db",
   "metadata": {},
   "outputs": [],
   "source": [
    "X_train, X_test, y_train, y_test = train_test_split(train_data.drop('Grade',axis=1), train_data.Grade, test_size=0.2, random_state=42)\n"
   ]
  },
  {
   "cell_type": "code",
   "execution_count": 93,
   "id": "d1d46eee",
   "metadata": {},
   "outputs": [],
   "source": [
    "y_train = y_train.astype('int')\n",
    "y_test = y_test.astype('int')"
   ]
  },
  {
   "cell_type": "code",
   "execution_count": 94,
   "id": "bce533ba",
   "metadata": {},
   "outputs": [
    {
     "name": "stdout",
     "output_type": "stream",
     "text": [
      "X_train : (5600, 13)\n",
      "X_test  : (1400, 13)\n",
      "y_train : (5600,)\n",
      "y_test  : (1400,)\n"
     ]
    }
   ],
   "source": [
    "print('X_train :',X_train.shape)\n",
    "print('X_test  :',X_test.shape)\n",
    "print('y_train :',y_train.shape)\n",
    "print('y_test  :',y_test.shape)"
   ]
  },
  {
   "cell_type": "markdown",
   "id": "0828d03a",
   "metadata": {},
   "source": [
    "### Data is splitted using train_test_split method at the ratio of 80:20"
   ]
  },
  {
   "cell_type": "markdown",
   "id": "9b0e412d",
   "metadata": {},
   "source": [
    "## LOGISTIC REGRESSION"
   ]
  },
  {
   "cell_type": "code",
   "execution_count": 95,
   "id": "ccd8fdd4",
   "metadata": {},
   "outputs": [],
   "source": [
    "from sklearn.linear_model import LogisticRegression"
   ]
  },
  {
   "cell_type": "code",
   "execution_count": 96,
   "id": "a762ff50",
   "metadata": {},
   "outputs": [],
   "source": [
    "logit = LogisticRegression(multi_class='multinomial', solver='saga',max_iter=5000,class_weight='balanced')"
   ]
  },
  {
   "cell_type": "code",
   "execution_count": 97,
   "id": "6dcdaea9",
   "metadata": {},
   "outputs": [
    {
     "name": "stderr",
     "output_type": "stream",
     "text": [
      "C:\\Users\\Admin\\Anaconda3\\lib\\site-packages\\sklearn\\linear_model\\_sag.py:352: ConvergenceWarning: The max_iter was reached which means the coef_ did not converge\n",
      "  warnings.warn(\n"
     ]
    },
    {
     "data": {
      "text/plain": [
       "LogisticRegression(class_weight='balanced', max_iter=5000,\n",
       "                   multi_class='multinomial', solver='saga')"
      ]
     },
     "execution_count": 97,
     "metadata": {},
     "output_type": "execute_result"
    }
   ],
   "source": [
    "logit.fit(X_train,y_train)\n"
   ]
  },
  {
   "cell_type": "code",
   "execution_count": 98,
   "id": "255bd41b",
   "metadata": {},
   "outputs": [
    {
     "data": {
      "text/plain": [
       "0.8725"
      ]
     },
     "execution_count": 98,
     "metadata": {},
     "output_type": "execute_result"
    }
   ],
   "source": [
    "logit.score(X_train,y_train)"
   ]
  },
  {
   "cell_type": "code",
   "execution_count": 99,
   "id": "c82984fd",
   "metadata": {},
   "outputs": [],
   "source": [
    "from sklearn.model_selection import cross_val_score"
   ]
  },
  {
   "cell_type": "code",
   "execution_count": 100,
   "id": "c33c907c",
   "metadata": {},
   "outputs": [
    {
     "name": "stderr",
     "output_type": "stream",
     "text": [
      "C:\\Users\\Admin\\Anaconda3\\lib\\site-packages\\sklearn\\linear_model\\_sag.py:352: ConvergenceWarning: The max_iter was reached which means the coef_ did not converge\n",
      "  warnings.warn(\n",
      "C:\\Users\\Admin\\Anaconda3\\lib\\site-packages\\sklearn\\linear_model\\_sag.py:352: ConvergenceWarning: The max_iter was reached which means the coef_ did not converge\n",
      "  warnings.warn(\n",
      "C:\\Users\\Admin\\Anaconda3\\lib\\site-packages\\sklearn\\linear_model\\_sag.py:352: ConvergenceWarning: The max_iter was reached which means the coef_ did not converge\n",
      "  warnings.warn(\n",
      "C:\\Users\\Admin\\Anaconda3\\lib\\site-packages\\sklearn\\linear_model\\_sag.py:352: ConvergenceWarning: The max_iter was reached which means the coef_ did not converge\n",
      "  warnings.warn(\n",
      "C:\\Users\\Admin\\Anaconda3\\lib\\site-packages\\sklearn\\linear_model\\_sag.py:352: ConvergenceWarning: The max_iter was reached which means the coef_ did not converge\n",
      "  warnings.warn(\n"
     ]
    },
    {
     "data": {
      "text/plain": [
       "0.8758928571428571"
      ]
     },
     "execution_count": 100,
     "metadata": {},
     "output_type": "execute_result"
    }
   ],
   "source": [
    "np.mean(cross_val_score(logit,X_train,y_train,cv=5))"
   ]
  },
  {
   "cell_type": "code",
   "execution_count": 101,
   "id": "2b5e93a3",
   "metadata": {},
   "outputs": [],
   "source": [
    "import warnings\n",
    "warnings.filterwarnings(\"ignore\", category=DeprecationWarning)"
   ]
  },
  {
   "cell_type": "code",
   "execution_count": 102,
   "id": "2422af61",
   "metadata": {},
   "outputs": [],
   "source": [
    "y_pred = logit.predict(X_test)"
   ]
  },
  {
   "cell_type": "code",
   "execution_count": 103,
   "id": "97c98fba",
   "metadata": {},
   "outputs": [],
   "source": [
    "from sklearn.metrics import classification_report\n"
   ]
  },
  {
   "cell_type": "code",
   "execution_count": 104,
   "id": "1eda9bd2",
   "metadata": {},
   "outputs": [
    {
     "name": "stdout",
     "output_type": "stream",
     "text": [
      "              precision    recall  f1-score   support\n",
      "\n",
      "           1       0.24      1.00      0.38         5\n",
      "           2       0.91      0.90      0.91       419\n",
      "           3       0.93      0.83      0.88       586\n",
      "           4       0.80      0.89      0.84       296\n",
      "           5       0.82      0.94      0.88        94\n",
      "\n",
      "    accuracy                           0.87      1400\n",
      "   macro avg       0.74      0.91      0.78      1400\n",
      "weighted avg       0.89      0.87      0.88      1400\n",
      "\n"
     ]
    }
   ],
   "source": [
    "print(classification_report(y_test,y_pred)) "
   ]
  },
  {
   "cell_type": "code",
   "execution_count": 105,
   "id": "f7b39cee",
   "metadata": {},
   "outputs": [],
   "source": [
    "logit_test_pred = logit.predict(test_data)\n"
   ]
  },
  {
   "cell_type": "code",
   "execution_count": 106,
   "id": "7c4a4cb5",
   "metadata": {},
   "outputs": [],
   "source": [
    "logit_test_pred=pd.DataFrame(logit_test_pred)\n"
   ]
  },
  {
   "cell_type": "code",
   "execution_count": 107,
   "id": "83f7b582",
   "metadata": {},
   "outputs": [
    {
     "data": {
      "text/html": [
       "<div>\n",
       "<style scoped>\n",
       "    .dataframe tbody tr th:only-of-type {\n",
       "        vertical-align: middle;\n",
       "    }\n",
       "\n",
       "    .dataframe tbody tr th {\n",
       "        vertical-align: top;\n",
       "    }\n",
       "\n",
       "    .dataframe thead th {\n",
       "        text-align: right;\n",
       "    }\n",
       "</style>\n",
       "<table border=\"1\" class=\"dataframe\">\n",
       "  <thead>\n",
       "    <tr style=\"text-align: right;\">\n",
       "      <th></th>\n",
       "      <th>id</th>\n",
       "      <th>Grade</th>\n",
       "    </tr>\n",
       "  </thead>\n",
       "  <tbody>\n",
       "    <tr>\n",
       "      <th>0</th>\n",
       "      <td>1</td>\n",
       "      <td>C</td>\n",
       "    </tr>\n",
       "    <tr>\n",
       "      <th>1</th>\n",
       "      <td>2</td>\n",
       "      <td>C</td>\n",
       "    </tr>\n",
       "    <tr>\n",
       "      <th>2</th>\n",
       "      <td>3</td>\n",
       "      <td>C</td>\n",
       "    </tr>\n",
       "    <tr>\n",
       "      <th>3</th>\n",
       "      <td>4</td>\n",
       "      <td>D</td>\n",
       "    </tr>\n",
       "    <tr>\n",
       "      <th>4</th>\n",
       "      <td>5</td>\n",
       "      <td>C</td>\n",
       "    </tr>\n",
       "    <tr>\n",
       "      <th>...</th>\n",
       "      <td>...</td>\n",
       "      <td>...</td>\n",
       "    </tr>\n",
       "    <tr>\n",
       "      <th>3294</th>\n",
       "      <td>3295</td>\n",
       "      <td>D</td>\n",
       "    </tr>\n",
       "    <tr>\n",
       "      <th>3295</th>\n",
       "      <td>3296</td>\n",
       "      <td>C</td>\n",
       "    </tr>\n",
       "    <tr>\n",
       "      <th>3296</th>\n",
       "      <td>3297</td>\n",
       "      <td>D</td>\n",
       "    </tr>\n",
       "    <tr>\n",
       "      <th>3297</th>\n",
       "      <td>3298</td>\n",
       "      <td>D</td>\n",
       "    </tr>\n",
       "    <tr>\n",
       "      <th>3298</th>\n",
       "      <td>3299</td>\n",
       "      <td>0</td>\n",
       "    </tr>\n",
       "  </tbody>\n",
       "</table>\n",
       "<p>3299 rows × 2 columns</p>\n",
       "</div>"
      ],
      "text/plain": [
       "        id Grade\n",
       "0        1     C\n",
       "1        2     C\n",
       "2        3     C\n",
       "3        4     D\n",
       "4        5     C\n",
       "...    ...   ...\n",
       "3294  3295     D\n",
       "3295  3296     C\n",
       "3296  3297     D\n",
       "3297  3298     D\n",
       "3298  3299     0\n",
       "\n",
       "[3299 rows x 2 columns]"
      ]
     },
     "execution_count": 107,
     "metadata": {},
     "output_type": "execute_result"
    }
   ],
   "source": [
    "submission_df"
   ]
  },
  {
   "cell_type": "code",
   "execution_count": 108,
   "id": "96a55f12",
   "metadata": {},
   "outputs": [],
   "source": [
    "submission_df.Grade=logit_test_pred\n"
   ]
  },
  {
   "cell_type": "code",
   "execution_count": 109,
   "id": "2e007d57",
   "metadata": {},
   "outputs": [],
   "source": [
    "submission_df.Grade = submission_df.Grade.replace({5:'A',4:'B',3:'C',2:'D',1:'E'})"
   ]
  },
  {
   "cell_type": "code",
   "execution_count": 110,
   "id": "42e6fe4b",
   "metadata": {},
   "outputs": [],
   "source": [
    "submission_df.to_csv('logit.csv',index=False)\n"
   ]
  },
  {
   "cell_type": "code",
   "execution_count": 111,
   "id": "db5e3ebf",
   "metadata": {},
   "outputs": [],
   "source": [
    "from sklearn.tree import DecisionTreeClassifier"
   ]
  },
  {
   "cell_type": "code",
   "execution_count": 112,
   "id": "91ace8f5",
   "metadata": {},
   "outputs": [],
   "source": [
    "tree = DecisionTreeClassifier(class_weight='balanced',max_depth=8)"
   ]
  },
  {
   "cell_type": "code",
   "execution_count": 113,
   "id": "e6fdd794",
   "metadata": {},
   "outputs": [
    {
     "data": {
      "text/plain": [
       "DecisionTreeClassifier(class_weight='balanced', max_depth=8)"
      ]
     },
     "execution_count": 113,
     "metadata": {},
     "output_type": "execute_result"
    }
   ],
   "source": [
    "tree.fit(X_train,y_train)"
   ]
  },
  {
   "cell_type": "code",
   "execution_count": 114,
   "id": "49bbfc07",
   "metadata": {},
   "outputs": [
    {
     "data": {
      "text/plain": [
       "0.8205357142857143"
      ]
     },
     "execution_count": 114,
     "metadata": {},
     "output_type": "execute_result"
    }
   ],
   "source": [
    "tree.score(X_train,y_train)"
   ]
  },
  {
   "cell_type": "code",
   "execution_count": 115,
   "id": "69ad5912",
   "metadata": {},
   "outputs": [
    {
     "data": {
      "text/plain": [
       "0.7601785714285715"
      ]
     },
     "execution_count": 115,
     "metadata": {},
     "output_type": "execute_result"
    }
   ],
   "source": [
    "np.mean(cross_val_score(tree,X_train,y_train,cv=5))\n"
   ]
  },
  {
   "cell_type": "code",
   "execution_count": 116,
   "id": "28a8f28c",
   "metadata": {},
   "outputs": [],
   "source": [
    "y_pred = tree.predict(X_test)\n"
   ]
  },
  {
   "cell_type": "code",
   "execution_count": 117,
   "id": "1163ceb1",
   "metadata": {},
   "outputs": [
    {
     "name": "stdout",
     "output_type": "stream",
     "text": [
      "              precision    recall  f1-score   support\n",
      "\n",
      "           1       0.40      0.40      0.40         5\n",
      "           2       0.80      0.88      0.84       419\n",
      "           3       0.82      0.70      0.75       586\n",
      "           4       0.66      0.70      0.68       296\n",
      "           5       0.63      0.81      0.71        94\n",
      "\n",
      "    accuracy                           0.76      1400\n",
      "   macro avg       0.66      0.70      0.68      1400\n",
      "weighted avg       0.76      0.76      0.76      1400\n",
      "\n"
     ]
    }
   ],
   "source": [
    "print(classification_report(y_test,y_pred))"
   ]
  },
  {
   "cell_type": "code",
   "execution_count": 118,
   "id": "de4f8117",
   "metadata": {},
   "outputs": [],
   "source": [
    "tree_test_pred = tree.predict(test_data)\n"
   ]
  },
  {
   "cell_type": "code",
   "execution_count": 119,
   "id": "72ced784",
   "metadata": {},
   "outputs": [],
   "source": [
    "tree_test_pred=pd.DataFrame(tree_test_pred)\n"
   ]
  },
  {
   "cell_type": "code",
   "execution_count": 120,
   "id": "d7461980",
   "metadata": {},
   "outputs": [],
   "source": [
    "from sklearn.model_selection import GridSearchCV\n"
   ]
  },
  {
   "cell_type": "code",
   "execution_count": 121,
   "id": "1183a55b",
   "metadata": {},
   "outputs": [],
   "source": [
    "submission_df.Grade=tree_test_pred"
   ]
  },
  {
   "cell_type": "code",
   "execution_count": 122,
   "id": "8b585fcb",
   "metadata": {},
   "outputs": [],
   "source": [
    "submission_df.Grade = submission_df.Grade.replace({5:'A',4:'B',3:'C',2:'D',1:'E'})"
   ]
  },
  {
   "cell_type": "code",
   "execution_count": 123,
   "id": "905b0efa",
   "metadata": {},
   "outputs": [],
   "source": [
    "submission_df.to_csv('tree.csv',index=False)"
   ]
  },
  {
   "cell_type": "code",
   "execution_count": 124,
   "id": "de33f742",
   "metadata": {},
   "outputs": [],
   "source": [
    "from sklearn.ensemble import RandomForestClassifier"
   ]
  },
  {
   "cell_type": "code",
   "execution_count": 125,
   "id": "afbdd703",
   "metadata": {},
   "outputs": [],
   "source": [
    "rf = RandomForestClassifier(n_estimators=3000,class_weight='balanced',max_depth=8)"
   ]
  },
  {
   "cell_type": "code",
   "execution_count": 126,
   "id": "d704f9f4",
   "metadata": {},
   "outputs": [
    {
     "data": {
      "text/plain": [
       "RandomForestClassifier(class_weight='balanced', max_depth=8, n_estimators=3000)"
      ]
     },
     "execution_count": 126,
     "metadata": {},
     "output_type": "execute_result"
    }
   ],
   "source": [
    "rf.fit(X_train,y_train)"
   ]
  },
  {
   "cell_type": "code",
   "execution_count": 127,
   "id": "dc4cdbe2",
   "metadata": {},
   "outputs": [
    {
     "data": {
      "text/plain": [
       "0.9"
      ]
     },
     "execution_count": 127,
     "metadata": {},
     "output_type": "execute_result"
    }
   ],
   "source": [
    "rf.score(X_train,y_train)\n"
   ]
  },
  {
   "cell_type": "code",
   "execution_count": 128,
   "id": "2ec86751",
   "metadata": {},
   "outputs": [
    {
     "data": {
      "text/plain": [
       "0.8428571428571429"
      ]
     },
     "execution_count": 128,
     "metadata": {},
     "output_type": "execute_result"
    }
   ],
   "source": [
    "np.mean(cross_val_score(rf,X_train,y_train,cv=5))"
   ]
  },
  {
   "cell_type": "code",
   "execution_count": 129,
   "id": "ab58317d",
   "metadata": {},
   "outputs": [],
   "source": [
    "y_pred = rf.predict(X_test)"
   ]
  },
  {
   "cell_type": "code",
   "execution_count": 130,
   "id": "e465ed35",
   "metadata": {},
   "outputs": [
    {
     "name": "stdout",
     "output_type": "stream",
     "text": [
      "              precision    recall  f1-score   support\n",
      "\n",
      "           1       0.20      0.50      0.29         2\n",
      "           2       0.92      0.88      0.90       437\n",
      "           3       0.82      0.88      0.85       546\n",
      "           4       0.83      0.77      0.80       320\n",
      "           5       0.83      0.82      0.83        95\n",
      "\n",
      "    accuracy                           0.85      1400\n",
      "   macro avg       0.72      0.77      0.73      1400\n",
      "weighted avg       0.86      0.85      0.85      1400\n",
      "\n"
     ]
    }
   ],
   "source": [
    "print(classification_report(y_pred,y_test))"
   ]
  },
  {
   "cell_type": "code",
   "execution_count": 131,
   "id": "7c18e2c9",
   "metadata": {},
   "outputs": [],
   "source": [
    "rf_test_pred = rf.predict(test_data)"
   ]
  },
  {
   "cell_type": "code",
   "execution_count": 132,
   "id": "b824e3f2",
   "metadata": {},
   "outputs": [],
   "source": [
    "submission_df.Grade=pd.DataFrame(rf_test_pred)"
   ]
  },
  {
   "cell_type": "code",
   "execution_count": 133,
   "id": "583cf012",
   "metadata": {},
   "outputs": [],
   "source": [
    "submission_df.Grade = submission_df.Grade.replace({5:'A',4:'B',3:'C',2:'D',1:'E'})"
   ]
  },
  {
   "cell_type": "code",
   "execution_count": 134,
   "id": "eccbca20",
   "metadata": {},
   "outputs": [],
   "source": [
    "submission_df.to_csv('rf.csv',index=False)"
   ]
  },
  {
   "cell_type": "code",
   "execution_count": 135,
   "id": "70094d53",
   "metadata": {},
   "outputs": [],
   "source": [
    "from sklearn.neighbors import KNeighborsClassifier"
   ]
  },
  {
   "cell_type": "code",
   "execution_count": 136,
   "id": "c19cc21e",
   "metadata": {},
   "outputs": [],
   "source": [
    "knn = KNeighborsClassifier(n_neighbors=7)"
   ]
  },
  {
   "cell_type": "code",
   "execution_count": 137,
   "id": "426eb74d",
   "metadata": {},
   "outputs": [
    {
     "data": {
      "text/plain": [
       "KNeighborsClassifier(n_neighbors=7)"
      ]
     },
     "execution_count": 137,
     "metadata": {},
     "output_type": "execute_result"
    }
   ],
   "source": [
    "knn.fit(X_train,y_train)"
   ]
  },
  {
   "cell_type": "code",
   "execution_count": 138,
   "id": "e35224ef",
   "metadata": {},
   "outputs": [
    {
     "name": "stderr",
     "output_type": "stream",
     "text": [
      "C:\\Users\\Admin\\Anaconda3\\lib\\site-packages\\sklearn\\neighbors\\_classification.py:228: FutureWarning: Unlike other reduction functions (e.g. `skew`, `kurtosis`), the default behavior of `mode` typically preserves the axis it acts along. In SciPy 1.11.0, this behavior will change: the default value of `keepdims` will become False, the `axis` over which the statistic is taken will be eliminated, and the value None will no longer be accepted. Set `keepdims` to True or False to avoid this warning.\n",
      "  mode, _ = stats.mode(_y[neigh_ind, k], axis=1)\n"
     ]
    },
    {
     "data": {
      "text/plain": [
       "0.9007142857142857"
      ]
     },
     "execution_count": 138,
     "metadata": {},
     "output_type": "execute_result"
    }
   ],
   "source": [
    "knn.score(X_train,y_train)\n"
   ]
  },
  {
   "cell_type": "code",
   "execution_count": 139,
   "id": "8064a9e7",
   "metadata": {},
   "outputs": [
    {
     "name": "stderr",
     "output_type": "stream",
     "text": [
      "C:\\Users\\Admin\\Anaconda3\\lib\\site-packages\\sklearn\\neighbors\\_classification.py:228: FutureWarning: Unlike other reduction functions (e.g. `skew`, `kurtosis`), the default behavior of `mode` typically preserves the axis it acts along. In SciPy 1.11.0, this behavior will change: the default value of `keepdims` will become False, the `axis` over which the statistic is taken will be eliminated, and the value None will no longer be accepted. Set `keepdims` to True or False to avoid this warning.\n",
      "  mode, _ = stats.mode(_y[neigh_ind, k], axis=1)\n",
      "C:\\Users\\Admin\\Anaconda3\\lib\\site-packages\\sklearn\\neighbors\\_classification.py:228: FutureWarning: Unlike other reduction functions (e.g. `skew`, `kurtosis`), the default behavior of `mode` typically preserves the axis it acts along. In SciPy 1.11.0, this behavior will change: the default value of `keepdims` will become False, the `axis` over which the statistic is taken will be eliminated, and the value None will no longer be accepted. Set `keepdims` to True or False to avoid this warning.\n",
      "  mode, _ = stats.mode(_y[neigh_ind, k], axis=1)\n",
      "C:\\Users\\Admin\\Anaconda3\\lib\\site-packages\\sklearn\\neighbors\\_classification.py:228: FutureWarning: Unlike other reduction functions (e.g. `skew`, `kurtosis`), the default behavior of `mode` typically preserves the axis it acts along. In SciPy 1.11.0, this behavior will change: the default value of `keepdims` will become False, the `axis` over which the statistic is taken will be eliminated, and the value None will no longer be accepted. Set `keepdims` to True or False to avoid this warning.\n",
      "  mode, _ = stats.mode(_y[neigh_ind, k], axis=1)\n",
      "C:\\Users\\Admin\\Anaconda3\\lib\\site-packages\\sklearn\\neighbors\\_classification.py:228: FutureWarning: Unlike other reduction functions (e.g. `skew`, `kurtosis`), the default behavior of `mode` typically preserves the axis it acts along. In SciPy 1.11.0, this behavior will change: the default value of `keepdims` will become False, the `axis` over which the statistic is taken will be eliminated, and the value None will no longer be accepted. Set `keepdims` to True or False to avoid this warning.\n",
      "  mode, _ = stats.mode(_y[neigh_ind, k], axis=1)\n",
      "C:\\Users\\Admin\\Anaconda3\\lib\\site-packages\\sklearn\\neighbors\\_classification.py:228: FutureWarning: Unlike other reduction functions (e.g. `skew`, `kurtosis`), the default behavior of `mode` typically preserves the axis it acts along. In SciPy 1.11.0, this behavior will change: the default value of `keepdims` will become False, the `axis` over which the statistic is taken will be eliminated, and the value None will no longer be accepted. Set `keepdims` to True or False to avoid this warning.\n",
      "  mode, _ = stats.mode(_y[neigh_ind, k], axis=1)\n"
     ]
    },
    {
     "data": {
      "text/plain": [
       "0.8507142857142856"
      ]
     },
     "execution_count": 139,
     "metadata": {},
     "output_type": "execute_result"
    }
   ],
   "source": [
    "np.mean(cross_val_score(knn,X_train,y_train,cv=5))"
   ]
  },
  {
   "cell_type": "code",
   "execution_count": 140,
   "id": "728c42cf",
   "metadata": {},
   "outputs": [
    {
     "name": "stderr",
     "output_type": "stream",
     "text": [
      "C:\\Users\\Admin\\Anaconda3\\lib\\site-packages\\sklearn\\neighbors\\_classification.py:228: FutureWarning: Unlike other reduction functions (e.g. `skew`, `kurtosis`), the default behavior of `mode` typically preserves the axis it acts along. In SciPy 1.11.0, this behavior will change: the default value of `keepdims` will become False, the `axis` over which the statistic is taken will be eliminated, and the value None will no longer be accepted. Set `keepdims` to True or False to avoid this warning.\n",
      "  mode, _ = stats.mode(_y[neigh_ind, k], axis=1)\n"
     ]
    }
   ],
   "source": [
    "y_pred = knn.predict(X_test)"
   ]
  },
  {
   "cell_type": "code",
   "execution_count": 141,
   "id": "a69d6abe",
   "metadata": {},
   "outputs": [
    {
     "name": "stdout",
     "output_type": "stream",
     "text": [
      "              precision    recall  f1-score   support\n",
      "\n",
      "           1       0.00      0.00      0.00         5\n",
      "           2       0.90      0.88      0.89       419\n",
      "           3       0.83      0.91      0.87       586\n",
      "           4       0.83      0.79      0.81       296\n",
      "           5       0.94      0.70      0.80        94\n",
      "\n",
      "    accuracy                           0.86      1400\n",
      "   macro avg       0.70      0.66      0.67      1400\n",
      "weighted avg       0.86      0.86      0.86      1400\n",
      "\n"
     ]
    },
    {
     "name": "stderr",
     "output_type": "stream",
     "text": [
      "C:\\Users\\Admin\\Anaconda3\\lib\\site-packages\\sklearn\\metrics\\_classification.py:1318: UndefinedMetricWarning: Precision and F-score are ill-defined and being set to 0.0 in labels with no predicted samples. Use `zero_division` parameter to control this behavior.\n",
      "  _warn_prf(average, modifier, msg_start, len(result))\n",
      "C:\\Users\\Admin\\Anaconda3\\lib\\site-packages\\sklearn\\metrics\\_classification.py:1318: UndefinedMetricWarning: Precision and F-score are ill-defined and being set to 0.0 in labels with no predicted samples. Use `zero_division` parameter to control this behavior.\n",
      "  _warn_prf(average, modifier, msg_start, len(result))\n",
      "C:\\Users\\Admin\\Anaconda3\\lib\\site-packages\\sklearn\\metrics\\_classification.py:1318: UndefinedMetricWarning: Precision and F-score are ill-defined and being set to 0.0 in labels with no predicted samples. Use `zero_division` parameter to control this behavior.\n",
      "  _warn_prf(average, modifier, msg_start, len(result))\n"
     ]
    }
   ],
   "source": [
    "print(classification_report(y_test,y_pred))"
   ]
  },
  {
   "cell_type": "code",
   "execution_count": 142,
   "id": "b6e88594",
   "metadata": {},
   "outputs": [
    {
     "name": "stderr",
     "output_type": "stream",
     "text": [
      "C:\\Users\\Admin\\Anaconda3\\lib\\site-packages\\sklearn\\neighbors\\_classification.py:228: FutureWarning: Unlike other reduction functions (e.g. `skew`, `kurtosis`), the default behavior of `mode` typically preserves the axis it acts along. In SciPy 1.11.0, this behavior will change: the default value of `keepdims` will become False, the `axis` over which the statistic is taken will be eliminated, and the value None will no longer be accepted. Set `keepdims` to True or False to avoid this warning.\n",
      "  mode, _ = stats.mode(_y[neigh_ind, k], axis=1)\n"
     ]
    }
   ],
   "source": [
    "knn_test_pred = knn.predict(test_data)"
   ]
  },
  {
   "cell_type": "code",
   "execution_count": 143,
   "id": "eaf9e8b7",
   "metadata": {},
   "outputs": [],
   "source": [
    "submission_df.Grade=pd.DataFrame(knn_test_pred)"
   ]
  },
  {
   "cell_type": "code",
   "execution_count": 144,
   "id": "369b526f",
   "metadata": {},
   "outputs": [],
   "source": [
    "submission_df.Grade = submission_df.Grade.replace({5:'A',4:'B',3:'C',2:'D',1:'E'})"
   ]
  },
  {
   "cell_type": "code",
   "execution_count": 145,
   "id": "03166fe7",
   "metadata": {},
   "outputs": [],
   "source": [
    "submission_df.to_csv('knn.csv',index=False)"
   ]
  },
  {
   "cell_type": "code",
   "execution_count": 146,
   "id": "9da09acd",
   "metadata": {},
   "outputs": [],
   "source": [
    "from sklearn.ensemble import GradientBoostingClassifier"
   ]
  },
  {
   "cell_type": "code",
   "execution_count": 147,
   "id": "192a9240",
   "metadata": {},
   "outputs": [],
   "source": [
    "gb = GradientBoostingClassifier()"
   ]
  },
  {
   "cell_type": "code",
   "execution_count": 148,
   "id": "2c592d75",
   "metadata": {},
   "outputs": [
    {
     "data": {
      "text/plain": [
       "GradientBoostingClassifier()"
      ]
     },
     "execution_count": 148,
     "metadata": {},
     "output_type": "execute_result"
    }
   ],
   "source": [
    "gb.fit(X_train,y_train)"
   ]
  },
  {
   "cell_type": "code",
   "execution_count": 149,
   "id": "0ba5497b",
   "metadata": {},
   "outputs": [
    {
     "data": {
      "text/plain": [
       "0.9480357142857143"
      ]
     },
     "execution_count": 149,
     "metadata": {},
     "output_type": "execute_result"
    }
   ],
   "source": [
    "gb.score(X_train,y_train)"
   ]
  },
  {
   "cell_type": "code",
   "execution_count": 150,
   "id": "6b65ab6b",
   "metadata": {},
   "outputs": [
    {
     "data": {
      "text/plain": [
       "0.8955357142857142"
      ]
     },
     "execution_count": 150,
     "metadata": {},
     "output_type": "execute_result"
    }
   ],
   "source": [
    "np.mean(cross_val_score(gb,X_train,y_train,cv=5))"
   ]
  },
  {
   "cell_type": "code",
   "execution_count": 151,
   "id": "46c29ef1",
   "metadata": {},
   "outputs": [],
   "source": [
    "y_pred = gb.predict(X_test)"
   ]
  },
  {
   "cell_type": "code",
   "execution_count": 152,
   "id": "b52f7d9d",
   "metadata": {},
   "outputs": [
    {
     "name": "stdout",
     "output_type": "stream",
     "text": [
      "              precision    recall  f1-score   support\n",
      "\n",
      "           1       0.20      0.50      0.29         2\n",
      "           2       0.91      0.94      0.93       407\n",
      "           3       0.93      0.88      0.91       619\n",
      "           4       0.84      0.85      0.85       293\n",
      "           5       0.74      0.89      0.81        79\n",
      "\n",
      "    accuracy                           0.89      1400\n",
      "   macro avg       0.73      0.81      0.76      1400\n",
      "weighted avg       0.90      0.89      0.89      1400\n",
      "\n"
     ]
    }
   ],
   "source": [
    "print(classification_report(y_pred,y_test))"
   ]
  },
  {
   "cell_type": "code",
   "execution_count": 153,
   "id": "36c064d1",
   "metadata": {},
   "outputs": [],
   "source": [
    "gb_test_pred = gb.predict(test_data)"
   ]
  },
  {
   "cell_type": "code",
   "execution_count": 154,
   "id": "01c3be57",
   "metadata": {},
   "outputs": [],
   "source": [
    "submission_df.Grade=pd.DataFrame(gb_test_pred)"
   ]
  },
  {
   "cell_type": "code",
   "execution_count": 155,
   "id": "d22f2722",
   "metadata": {},
   "outputs": [],
   "source": [
    "submission_df.Grade = submission_df.Grade.replace({5:'A',4:'B',3:'C',2:'D',1:'E'})"
   ]
  },
  {
   "cell_type": "code",
   "execution_count": 156,
   "id": "16e06ca4",
   "metadata": {},
   "outputs": [],
   "source": [
    "submission_df.to_csv('gb.csv',index=False)"
   ]
  },
  {
   "cell_type": "code",
   "execution_count": 157,
   "id": "735cdfc4",
   "metadata": {},
   "outputs": [],
   "source": [
    "from sklearn.svm import SVC"
   ]
  },
  {
   "cell_type": "code",
   "execution_count": 158,
   "id": "0305f4f0",
   "metadata": {},
   "outputs": [],
   "source": [
    "sv = SVC()"
   ]
  },
  {
   "cell_type": "code",
   "execution_count": 159,
   "id": "27a788fb",
   "metadata": {},
   "outputs": [
    {
     "data": {
      "text/plain": [
       "SVC()"
      ]
     },
     "execution_count": 159,
     "metadata": {},
     "output_type": "execute_result"
    }
   ],
   "source": [
    "sv.fit(X_train,y_train)"
   ]
  },
  {
   "cell_type": "code",
   "execution_count": 160,
   "id": "96b96465",
   "metadata": {},
   "outputs": [
    {
     "data": {
      "text/plain": [
       "0.9294642857142857"
      ]
     },
     "execution_count": 160,
     "metadata": {},
     "output_type": "execute_result"
    }
   ],
   "source": [
    "sv.score(X_train,y_train)"
   ]
  },
  {
   "cell_type": "code",
   "execution_count": 161,
   "id": "99d08b88",
   "metadata": {},
   "outputs": [
    {
     "data": {
      "text/plain": [
       "0.9198214285714286"
      ]
     },
     "execution_count": 161,
     "metadata": {},
     "output_type": "execute_result"
    }
   ],
   "source": [
    "np.mean(cross_val_score(sv,X_train,y_train,cv=5))"
   ]
  },
  {
   "cell_type": "code",
   "execution_count": 162,
   "id": "2f3cd50d",
   "metadata": {},
   "outputs": [],
   "source": [
    "y_pred = sv.predict(X_test)"
   ]
  },
  {
   "cell_type": "code",
   "execution_count": 163,
   "id": "3f665a59",
   "metadata": {},
   "outputs": [
    {
     "name": "stdout",
     "output_type": "stream",
     "text": [
      "              precision    recall  f1-score   support\n",
      "\n",
      "           1       0.00      0.00      0.00         0\n",
      "           2       0.95      0.95      0.95       421\n",
      "           3       0.95      0.92      0.93       603\n",
      "           4       0.90      0.88      0.89       304\n",
      "           5       0.76      0.99      0.86        72\n",
      "\n",
      "    accuracy                           0.92      1400\n",
      "   macro avg       0.71      0.75      0.73      1400\n",
      "weighted avg       0.93      0.92      0.93      1400\n",
      "\n"
     ]
    },
    {
     "name": "stderr",
     "output_type": "stream",
     "text": [
      "C:\\Users\\Admin\\Anaconda3\\lib\\site-packages\\sklearn\\metrics\\_classification.py:1318: UndefinedMetricWarning: Recall and F-score are ill-defined and being set to 0.0 in labels with no true samples. Use `zero_division` parameter to control this behavior.\n",
      "  _warn_prf(average, modifier, msg_start, len(result))\n",
      "C:\\Users\\Admin\\Anaconda3\\lib\\site-packages\\sklearn\\metrics\\_classification.py:1318: UndefinedMetricWarning: Recall and F-score are ill-defined and being set to 0.0 in labels with no true samples. Use `zero_division` parameter to control this behavior.\n",
      "  _warn_prf(average, modifier, msg_start, len(result))\n",
      "C:\\Users\\Admin\\Anaconda3\\lib\\site-packages\\sklearn\\metrics\\_classification.py:1318: UndefinedMetricWarning: Recall and F-score are ill-defined and being set to 0.0 in labels with no true samples. Use `zero_division` parameter to control this behavior.\n",
      "  _warn_prf(average, modifier, msg_start, len(result))\n"
     ]
    }
   ],
   "source": [
    "print(classification_report(y_pred,y_test))"
   ]
  },
  {
   "cell_type": "code",
   "execution_count": 164,
   "id": "22186e58",
   "metadata": {},
   "outputs": [],
   "source": [
    "sv_test_pred = sv.predict(test_data)"
   ]
  },
  {
   "cell_type": "code",
   "execution_count": 165,
   "id": "1819bfbe",
   "metadata": {},
   "outputs": [],
   "source": [
    "submission_df.Grade=pd.DataFrame(sv_test_pred)"
   ]
  },
  {
   "cell_type": "code",
   "execution_count": 166,
   "id": "c7166e81",
   "metadata": {},
   "outputs": [],
   "source": [
    "submission_df.Grade = submission_df.Grade.replace({5:'A',4:'B',3:'C',2:'D',1:'E'})"
   ]
  },
  {
   "cell_type": "code",
   "execution_count": 167,
   "id": "45b2fdd1",
   "metadata": {},
   "outputs": [],
   "source": [
    "submission_df.to_csv('sv.csv',index=False)"
   ]
  },
  {
   "cell_type": "code",
   "execution_count": null,
   "id": "2ef46c29",
   "metadata": {},
   "outputs": [],
   "source": []
  }
 ],
 "metadata": {
  "kernelspec": {
   "display_name": "Python 3 (ipykernel)",
   "language": "python",
   "name": "python3"
  },
  "language_info": {
   "codemirror_mode": {
    "name": "ipython",
    "version": 3
   },
   "file_extension": ".py",
   "mimetype": "text/x-python",
   "name": "python",
   "nbconvert_exporter": "python",
   "pygments_lexer": "ipython3",
   "version": "3.9.13"
  }
 },
 "nbformat": 4,
 "nbformat_minor": 5
}
